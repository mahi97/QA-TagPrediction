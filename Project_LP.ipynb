{
  "nbformat": 4,
  "nbformat_minor": 0,
  "metadata": {
    "colab": {
      "name": "Copy of DM_Project_LP.ipynb",
      "provenance": [],
      "collapsed_sections": [],
      "toc_visible": true,
      "include_colab_link": true
    },
    "kernelspec": {
      "display_name": "Python 3",
      "language": "python",
      "name": "python3"
    },
    "language_info": {
      "codemirror_mode": {
        "name": "ipython",
        "version": 3
      },
      "file_extension": ".py",
      "mimetype": "text/x-python",
      "name": "python",
      "nbconvert_exporter": "python",
      "pygments_lexer": "ipython3",
      "version": "3.7.9"
    },
    "accelerator": "GPU"
  },
  "cells": [
    {
      "cell_type": "markdown",
      "metadata": {
        "id": "view-in-github",
        "colab_type": "text"
      },
      "source": [
        "<a href=\"https://colab.research.google.com/github/mahi97/QA-TagPrediction/blob/main/Project_LP.ipynb\" target=\"_parent\"><img src=\"https://colab.research.google.com/assets/colab-badge.svg\" alt=\"Open In Colab\"/></a>"
      ]
    },
    {
      "cell_type": "markdown",
      "metadata": {
        "id": "NBc8tXqtZFor"
      },
      "source": [
        "# Question Answering Tag Prediction\n",
        "\n",
        "## Datasets: (stackoverflow, mathoverflow)\n"
      ]
    },
    {
      "cell_type": "code",
      "metadata": {
        "id": "KrOT2rDd-Di_",
        "colab": {
          "base_uri": "https://localhost:8080/"
        },
        "outputId": "732e9230-ee6f-48b4-c442-66a889a447e6"
      },
      "source": [
        "from google.colab import drive\n",
        "drive.mount('/content/drive')"
      ],
      "execution_count": 1,
      "outputs": [
        {
          "output_type": "stream",
          "text": [
            "Mounted at /content/drive\n"
          ],
          "name": "stdout"
        }
      ]
    },
    {
      "cell_type": "code",
      "metadata": {
        "id": "r0gc42_3OGLf",
        "colab": {
          "base_uri": "https://localhost:8080/"
        },
        "outputId": "e72b54a1-3bb5-44d6-a715-05b02532673f"
      },
      "source": [
        "!ls /content/drive/MyDrive/DM/Project/stackoverflow"
      ],
      "execution_count": 2,
      "outputs": [
        {
          "output_type": "stream",
          "text": [
            "answerer_info_stackoverflow.txt  train_query_stackoverflow.txt\n",
            "test_predict_stackoverflow.txt\t valid_answer_stackoverflow.txt\n",
            "test_query_stackoverflow.txt\t valid_predict_stackoverflow.txt\n",
            "train_answer_stackoverflow.txt\t valid_query_stackoverflow.txt\n"
          ],
          "name": "stdout"
        }
      ]
    },
    {
      "cell_type": "code",
      "metadata": {
        "id": "KGAIo5UJP8LQ"
      },
      "source": [
        "import os\n",
        "import numpy as np\n",
        "import matplotlib.pyplot as plt\n",
        "from tqdm import tqdm\n",
        "from functools import reduce\n",
        "\n",
        "\n",
        "DATASETS = ['mathoverflow', 'stackoverflow']\n",
        "BASE_DIR = '/content/drive/MyDrive/DM/Project/'\n",
        "# BASE_DIR = './'\n",
        "ANSWER = 'answerer_info_{}.txt'\n",
        "TAG_TRAIN = 'train_answer_{}.txt'\n",
        "TAG_VALID = 'valid_answer_{}.txt'\n",
        "Q_TRAIN = 'train_query_{}.txt'\n",
        "Q_TEST = 'test_query_{}.txt'\n",
        "Q_VALID = 'test_query_{}.txt'\n",
        "PREDICT_VALID = 'valid_predict_{}.txt'\n",
        "PREDICT_TEST = 'test_predict_{}.txt'"
      ],
      "execution_count": 3,
      "outputs": []
    },
    {
      "cell_type": "markdown",
      "metadata": {
        "id": "BbZ47I17ZWzT"
      },
      "source": [
        "## 1. Data Preproccesing\n"
      ]
    },
    {
      "cell_type": "code",
      "metadata": {
        "id": "k4N5CgiMQd1u"
      },
      "source": [
        "def get_answer_info(dataset_id):\n",
        "    q2a = {}\n",
        "    a2q = {}\n",
        "    lines = open(os.path.join(BASE_DIR, DATASETS[dataset_id], ANSWER.format(DATASETS[dataset_id])), \"r\")\n",
        "    \n",
        "    for user, line in enumerate(lines.readlines()):\n",
        "        l = line.replace('\\n', '').split(' ')\n",
        "        a = user\n",
        "        a2q[a] = []\n",
        "        for q in l:\n",
        "            q = int(q)\n",
        "            a2q[a].append(q)\n",
        "            if q not in q2a:\n",
        "                q2a[q] = []\n",
        "            q2a[q].append(a)\n",
        "    return q2a, a2q\n",
        "\n",
        "def get_train_tag(dataset_id, _q2a, _a2q):\n",
        "    _q2t = {}\n",
        "    _t2q = {}\n",
        "    _a2t = {}\n",
        "    _t2a = {}\n",
        "    _qa  = {}\n",
        "    for a in _a2q.keys():\n",
        "        _a2t[a] = []\n",
        "    \n",
        "    qtions = open(os.path.join(BASE_DIR, DATASETS[dataset_id], Q_TRAIN.format(DATASETS[dataset_id])), \"r\")\n",
        "    tag = open(os.path.join(BASE_DIR, DATASETS[dataset_id], TAG_TRAIN.format(DATASETS[dataset_id])), \"r\")\n",
        "    for qtion, tags in zip(qtions.readlines(), tag.readlines()):\n",
        "        tags = tags.replace('\\n', '').split(' ')\n",
        "        q = int(qtion.replace('\\n', ''))\n",
        "        _qa[q] = _q2a[q]\n",
        "        _q2t[q] = []\n",
        "        answerers = _q2a[q]\n",
        "        for t in tags:\n",
        "            t = int(t)\n",
        "            _q2t[q].append(t)\n",
        "            [_a2t[a].append(t) for a in answerers]\n",
        "            if t not in _t2a:\n",
        "                _t2a[t] = []\n",
        "            if t not in _t2q:\n",
        "                _t2q[t] = []\n",
        "            _t2a[t].extend(answerers)\n",
        "            _t2q[t].append(q)\n",
        "    return _qa, _a2t, _q2t, _t2q, _t2a"
      ],
      "execution_count": 4,
      "outputs": []
    },
    {
      "cell_type": "code",
      "metadata": {
        "id": "YjdgjRHR90ec"
      },
      "source": [
        "def get_valid_tag(dataset_id, _q2a, _a2q):\n",
        "    _q2t = {}\n",
        "    _t2q = {}\n",
        "    _a2t = {}\n",
        "    _t2a = {}\n",
        "    _qs  = []\n",
        "    for a in _a2q.keys():\n",
        "        _a2t[a] = []\n",
        "    \n",
        "    qtions = open(os.path.join(BASE_DIR, DATASETS[dataset_id], Q_VALID.format(DATASETS[dataset_id])), \"r\")\n",
        "    tag = open(os.path.join(BASE_DIR, DATASETS[dataset_id], TAG_VALID.format(DATASETS[dataset_id])), \"r\")\n",
        "    for qtion, tags in zip(qtions.readlines(), tag.readlines()):\n",
        "        tags = tags.replace('\\n', '').split(' ')\n",
        "        q = int(qtion.replace('\\n', ''))\n",
        "        _qs.append(q)\n",
        "        _q2t[q] = []\n",
        "        answerers = _q2a[q]\n",
        "        for t in tags:\n",
        "            t = int(t)\n",
        "            _q2t[q].append(t)\n",
        "            [_a2t[a].append(t) for a in answerers]\n",
        "            if t not in _t2a:\n",
        "                _t2a[t] = []\n",
        "            if t not in _t2q:\n",
        "                _t2q[t] = []\n",
        "            _t2a[t].extend(answerers)\n",
        "            _t2q[t].append(q)\n",
        "    return _qs, _a2t, _q2t, _t2q, _t2a"
      ],
      "execution_count": 5,
      "outputs": []
    },
    {
      "cell_type": "code",
      "metadata": {
        "id": "09HPPSxO90ec"
      },
      "source": [
        "def get_test_query(dataset_id):\n",
        "    q = []\n",
        "    qtions = open(os.path.join(BASE_DIR, DATASETS[dataset_id], Q_VALID.format(DATASETS[dataset_id])), \"r\")\n",
        "    for qtion in qtions.readlines():\n",
        "        q.append(int(qtion.replace('\\n', '')))\n",
        "    return q"
      ],
      "execution_count": 6,
      "outputs": []
    },
    {
      "cell_type": "code",
      "metadata": {
        "id": "hzDvwpqhicNC"
      },
      "source": [
        "def show_histogram(data, bins='auto', unique=True, xl='', yl='', title=''):\n",
        "    plt.figure(figsize=(8,5))\n",
        "    if unique:\n",
        "        hist = [len(np.unique(v)) for v in data.values()]\n",
        "    else:  \n",
        "        hist = [len(v) for v in data.values()]\n",
        "    print(min(hist), max(hist), np.median(hist), np.mean(hist), np.std(hist), len(hist))\n",
        "    _ = plt.hist(hist, bins=bins)  # arguments are passed to np.histogram\n",
        "    plt.title(title)\n",
        "    plt.xlabel(xl)\n",
        "    plt.ylabel(yl)\n",
        "    plt.show()\n",
        "\n",
        "def histogram(hist, bins='auto', unique=True):\n",
        "    if len(hist):\n",
        "        print(min(hist), max(hist), np.mean(hist), np.std(hist), len(hist))\n",
        "        _ = plt.hist(hist, bins=bins)  # arguments are passed to np.histogram\n",
        "        plt.title(\"Histogram with {} bins\".format(bins))\n",
        "        plt.show()"
      ],
      "execution_count": 7,
      "outputs": []
    },
    {
      "cell_type": "code",
      "metadata": {
        "id": "uoxt-L6D90ed"
      },
      "source": [
        "dataset_id = 1\n",
        "q2a, a2q = get_answer_info(dataset_id)\n",
        "t_q2a, a2t, q2t, t2q, t2a = get_train_tag(dataset_id, q2a, a2q)\n",
        "v_q, v_a2t, v_q2t, v_t2q, v_t2a = get_valid_tag(dataset_id, q2a, a2q)\n",
        "t_q = get_test_query(dataset_id)"
      ],
      "execution_count": 8,
      "outputs": []
    },
    {
      "cell_type": "code",
      "metadata": {
        "id": "wcrktWTfQ118",
        "colab": {
          "base_uri": "https://localhost:8080/",
          "height": 366
        },
        "outputId": "996224b7-d3f9-4fe4-bd22-3598406f08cf"
      },
      "source": [
        "show_histogram(a2q, range(100), xl='Questions', yl='Answerer', title='Number of Answerer per Number of Questions')"
      ],
      "execution_count": 9,
      "outputs": [
        {
          "output_type": "stream",
          "text": [
            "2 1682 4.0 11.569131220858312 43.98697354963338 10509\n"
          ],
          "name": "stdout"
        },
        {
          "output_type": "display_data",
          "data": {
            "image/png": "[encoded data removed]",
            "text/plain": [
              "<Figure size 576x360 with 1 Axes>"
            ]
          },
          "metadata": {
            "tags": [],
            "needs_background": "light"
          }
        }
      ]
    },
    {
      "cell_type": "code",
      "metadata": {
        "id": "7e9ZXSumTArV",
        "colab": {
          "base_uri": "https://localhost:8080/",
          "height": 366
        },
        "outputId": "d7662374-aefb-4253-9602-c2af63b4498f"
      },
      "source": [
        "show_histogram(q2a, [2 ** i for i in range(7)], xl='Answerer', yl='Questions', title='Number of Question per Number of Answerer')"
      ],
      "execution_count": 10,
      "outputs": [
        {
          "output_type": "stream",
          "text": [
            "1 12 1.0 1.0163002591323247 0.1371487670037999 119630\n"
          ],
          "name": "stdout"
        },
        {
          "output_type": "display_data",
          "data": {
            "image/png": "[encoded data removed]",
            "text/plain": [
              "<Figure size 576x360 with 1 Axes>"
            ]
          },
          "metadata": {
            "tags": [],
            "needs_background": "light"
          }
        }
      ]
    },
    {
      "cell_type": "code",
      "metadata": {
        "id": "9p8pLpQH17_X",
        "colab": {
          "base_uri": "https://localhost:8080/",
          "height": 366
        },
        "outputId": "6793656f-8213-45ac-c179-028748e42c1b"
      },
      "source": [
        "show_histogram(q2t, xl='Tags', yl='Questions', title='Number of Question per Number of Tag')"
      ],
      "execution_count": 11,
      "outputs": [
        {
          "output_type": "stream",
          "text": [
            "1 6 3.0 2.8069986625428403 1.1728671022627521 95704\n"
          ],
          "name": "stdout"
        },
        {
          "output_type": "display_data",
          "data": {
            "image/png": "[encoded data removed]",
            "text/plain": [
              "<Figure size 576x360 with 1 Axes>"
            ]
          },
          "metadata": {
            "tags": [],
            "needs_background": "light"
          }
        }
      ]
    },
    {
      "cell_type": "code",
      "metadata": {
        "id": "v7XhYosA18br",
        "colab": {
          "base_uri": "https://localhost:8080/",
          "height": 366
        },
        "outputId": "5aa45e78-4c74-46ef-924c-62e47fb09cae"
      },
      "source": [
        "show_histogram(t2q, [2 ** i for i in range(14)], xl='Questions', yl='Tags', title='Number of Tags per Number of Questions')"
      ],
      "execution_count": 12,
      "outputs": [
        {
          "output_type": "stream",
          "text": [
            "1 10169 7.0 39.55256183745583 288.27579694683584 6792\n"
          ],
          "name": "stdout"
        },
        {
          "output_type": "display_data",
          "data": {
            "image/png": "[encoded data removed]",
            "text/plain": [
              "<Figure size 576x360 with 1 Axes>"
            ]
          },
          "metadata": {
            "tags": [],
            "needs_background": "light"
          }
        }
      ]
    },
    {
      "cell_type": "code",
      "metadata": {
        "id": "KkXSKX8P18uV",
        "colab": {
          "base_uri": "https://localhost:8080/",
          "height": 366
        },
        "outputId": "94399f7a-8769-4222-f3e2-8d191b362c0a"
      },
      "source": [
        "show_histogram(t2a, [2 ** i for i in range(13)], xl='Answerer', yl='Tags', title='Number of Tags per Number of Answerer')"
      ],
      "execution_count": 13,
      "outputs": [
        {
          "output_type": "stream",
          "text": [
            "1 3896 7.0 29.014428739693756 134.69917874767435 6792\n"
          ],
          "name": "stdout"
        },
        {
          "output_type": "display_data",
          "data": {
            "image/png": "[encoded data removed]",
            "text/plain": [
              "<Figure size 576x360 with 1 Axes>"
            ]
          },
          "metadata": {
            "tags": [],
            "needs_background": "light"
          }
        }
      ]
    },
    {
      "cell_type": "code",
      "metadata": {
        "id": "NMYuozJQ18_v",
        "colab": {
          "base_uri": "https://localhost:8080/",
          "height": 366
        },
        "outputId": "8ddeaf0d-c019-49a8-9e58-3120642d5ab4"
      },
      "source": [
        "show_histogram(a2t, [2 ** i for i in range(10)], xl='Tags', yl='Answerer', title='Number of Answerer per Number of Tags')"
      ],
      "execution_count": 14,
      "outputs": [
        {
          "output_type": "stream",
          "text": [
            "0 1253 8.0 18.752117232848036 43.39175439143453 10509\n"
          ],
          "name": "stdout"
        },
        {
          "output_type": "display_data",
          "data": {
            "image/png": "[encoded data removed]",
            "text/plain": [
              "<Figure size 576x360 with 1 Axes>"
            ]
          },
          "metadata": {
            "tags": [],
            "needs_background": "light"
          }
        }
      ]
    },
    {
      "cell_type": "code",
      "metadata": {
        "id": "cRK9jn3sefVq"
      },
      "source": [
        "q2at = {}\n",
        "\n",
        "for q, a in q2a.items():\n",
        "  if q not in q2at:\n",
        "    q2at[q] = []\n",
        "  for answerer in a:\n",
        "    q2at[q].extend(a2t[answerer])"
      ],
      "execution_count": 15,
      "outputs": []
    },
    {
      "cell_type": "code",
      "metadata": {
        "id": "t5C7jtxMawbz",
        "colab": {
          "base_uri": "https://localhost:8080/",
          "height": 366
        },
        "outputId": "1a4609a5-cf17-4150-c512-f9fe0d2c9e67"
      },
      "source": [
        "show_histogram(q2at, xl='Candidate Tags', yl='Questions', title='Number of Questions per Number of Candidate Tags')"
      ],
      "execution_count": 16,
      "outputs": [
        {
          "output_type": "stream",
          "text": [
            "0 1691 61.0 179.27640224024074 274.1661434535563 119630\n"
          ],
          "name": "stdout"
        },
        {
          "output_type": "display_data",
          "data": {
            "image/png": "[encoded data removed]",
            "text/plain": [
              "<Figure size 576x360 with 1 Axes>"
            ]
          },
          "metadata": {
            "tags": [],
            "needs_background": "light"
          }
        }
      ]
    },
    {
      "cell_type": "markdown",
      "metadata": {
        "id": "kfmZtta9Zqmi"
      },
      "source": [
        "## 2. Baseline Methods"
      ]
    },
    {
      "cell_type": "code",
      "metadata": {
        "id": "AR0v8O3jlg25"
      },
      "source": [
        "from itertools import chain, combinations\n",
        "\n",
        "def powerset(s, r):\n",
        "    \"powerset([1,2,3]) --> () (1,) (2,) (3,) (1,2) (1,3) (2,3) (1,2,3)\"\n",
        "    return combinations(s, r)\n",
        "\n",
        "def powerset2(s):\n",
        "    \"powerset([1,2,3]) --> () (1,) (2,) (3,) (1,2) (1,3) (2,3) (1,2,3)\"\n",
        "    return chain.from_iterable(combinations(s, r) for r in range(1, len(s)+1))"
      ],
      "execution_count": 17,
      "outputs": []
    },
    {
      "cell_type": "code",
      "metadata": {
        "id": "RIMMOQYoKvX7"
      },
      "source": [
        "def get_pop_score(_t2q, _a2q, _q2a, _q2t, iter):\n",
        "  t2s = {}\n",
        "  q2s = {}\n",
        "  a2s = {}\n",
        "\n",
        "  iter = 30\n",
        "  for t in _t2q:\n",
        "    t2s[t] = 1\n",
        "  \n",
        "  for it in tqdm(range(iter)):\n",
        "    tt = [t for t, s in t2s.items() if s > 0.0]\n",
        "\n",
        "    for t in tt:\n",
        "      for q in _t2q[t]:\n",
        "        if q not in q2s:\n",
        "          q2s[q] = 0.0\n",
        "        q2s[q] += t2s[t] / len(_t2q[t])\n",
        "    n_t2s = t2s\n",
        "    t2s = {} \n",
        "    qq = [q for q, s in q2s.items() if s > 0.0]     \n",
        "    for q in qq:\n",
        "      for a in _q2a[q]:\n",
        "        if a not in a2s:\n",
        "          a2s[a] = 0.0\n",
        "        a2s[a] += q2s[q] / len(_q2a[q])\n",
        "    q2s = {}\n",
        "    aa = [a for a, s in a2s.items() if s > 0.0]\n",
        "    for a in aa:\n",
        "      qt = [q for q in _a2q[a] if q in _q2t]\n",
        "      for q2 in qt:\n",
        "        if q2 not in q2s:\n",
        "          q2s[q2] = 0.0\n",
        "        q2s[q2] += a2s[a] / len(qt)\n",
        "    a2s = {}\n",
        "    qq = [q for q, s in q2s.items() if s > 0.0]\n",
        "    for q in qq:     \n",
        "      if q in _q2t:\n",
        "        for t in _q2t[q]:\n",
        "          if t not in t2s:\n",
        "            t2s[t] = 0.0\n",
        "          t2s[t] += q2s[q] / len(_q2t[q])\n",
        "    q2s = {}\n",
        "    diff = 0.0\n",
        "    for t in t2s:\n",
        "      if t in n_t2s:\n",
        "        diff += abs(t2s[t] - n_t2s[t])\n",
        "      else:\n",
        "        diff += t2s[t]\n",
        "    for t in n_t2s:\n",
        "      if t not in t2s:\n",
        "        diff += n_t2s[t]\n",
        "    s = np.argsort([-s for s in t2s.values()])\n",
        "    h = [t for t in t2s.keys()]\n",
        "    f = [h[s] for s in s[:5]]\n",
        "  return t2s"
      ],
      "execution_count": 18,
      "outputs": []
    },
    {
      "cell_type": "code",
      "metadata": {
        "id": "yoLlMsmhm5hQ"
      },
      "source": [
        "def get_support_set(_q2t, max_tag_set):\n",
        "    tag_set = [{} for i in range(max_tag_set)]\n",
        "    for q, t in _q2t.items():\n",
        "        for r in range(max_tag_set):\n",
        "            t = np.sort(t)\n",
        "            for p in powerset(t, r+1):\n",
        "                if p not in tag_set[r]:\n",
        "                    tag_set[r][p] = 0\n",
        "                tag_set[r][p] += 1\n",
        "    support_tag = {}\n",
        "    total = len(_q2t)\n",
        "    for i in range(max_tag_set):\n",
        "        for t, c in tag_set[i].items():\n",
        "            support_tag[t] = c/total\n",
        "    return support_tag"
      ],
      "execution_count": 19,
      "outputs": []
    },
    {
      "cell_type": "code",
      "metadata": {
        "id": "1utphtGT90eh"
      },
      "source": [
        "def get_answerer_conf(_a2q, _q2t, max_tag_set):\n",
        "    at2s = {}\n",
        "    for a, qs in _a2q.items():\n",
        "        supp_a = len(_a2q[a]) / sum([len(v) for v in _a2q.values()])\n",
        "        total = sum([len(v) for v in q2at.values()])\n",
        "        tag_set = {}\n",
        "        for q in qs:\n",
        "            if q not in _q2t:\n",
        "                continue\n",
        "            t = _q2t[q]\n",
        "            t = np.sort(t)    \n",
        "            for r in range(max_tag_set):\n",
        "                for p in powerset(t, r+1):\n",
        "                    if p not in tag_set:\n",
        "                        tag_set[p] = 0\n",
        "                    tag_set[p] += 1 / supp_a / total\n",
        "        \n",
        "        at2s[a] = tag_set\n",
        "    return at2s"
      ],
      "execution_count": 20,
      "outputs": []
    },
    {
      "cell_type": "code",
      "metadata": {
        "id": "9yJ6O-WbC5N0"
      },
      "source": [
        "def get_answerer_tag_score(_a2q, _q2t, _t2s, max_tag_set, split1=True, split2=True):\n",
        "  at2s = {}\n",
        "  qt2s = {}\n",
        "  at2s = {}\n",
        "  for t, v in t2s.items():\n",
        "    for q in t2q[t]:\n",
        "      if q not in qt2s:\n",
        "        qt2s[q] = {}\n",
        "      if t not in qt2s[q]:\n",
        "        qt2s[q][t] = 0.0\n",
        "      qt2s[q][t] += v / len(t2q[t]) if split1 else v\n",
        "  for q, v in qt2s.items():\n",
        "    for a in q2a[q]:\n",
        "      if a not in at2s:\n",
        "        at2s[a] = {}\n",
        "      for t, s in v.items():\n",
        "        if t not in at2s[a]:\n",
        "          at2s[a][t] = 0.0\n",
        "        at2s[a][t] += s / len(q2a[q]) if split2 else s\n",
        "\n",
        "  return at2s"
      ],
      "execution_count": 21,
      "outputs": []
    },
    {
      "cell_type": "code",
      "metadata": {
        "id": "yEao8iaI90eh"
      },
      "source": [
        "def get_tag_score(question, candidate_tags, support_tag):\n",
        "    ## PART.1 Tag Score from Answrer Confident\n",
        "    values = candidate_tags[question]\n",
        "\n",
        "    ## Part.2 Tag Score from Tag Supports\n",
        "    scores = [support_tag[t] for t in candidate_tags[question].keys()]\n",
        "\n",
        "    scores = []\n",
        "    conf = []\n",
        "    final = []\n",
        "    tags = []\n",
        "    for tag in candidate_tags[question].keys():\n",
        "        tags.append(tag)\n",
        "        scores.append(-support_tag[tag])\n",
        "        conf.append(-values[tag])\n",
        "        final.append(conf[-1] + scores[-1])\n",
        "    return tags, scores, conf, final"
      ],
      "execution_count": 22,
      "outputs": []
    },
    {
      "cell_type": "code",
      "metadata": {
        "id": "Iq9V6b8w90ei"
      },
      "source": [
        "def predict(questions, candidates, a2q, a2t, q2t, st):\n",
        "    s = {}\n",
        "    c = {}\n",
        "    f = {}\n",
        "    t = {}\n",
        "    for q in tqdm(questions):\n",
        "        t[q], s[q], c[q], f[q] = get_tag_score(q, candidates, st)\n",
        "        \n",
        "    return t, s, c, f"
      ],
      "execution_count": 23,
      "outputs": []
    },
    {
      "cell_type": "code",
      "metadata": {
        "id": "mN1EyHQ6KDxL"
      },
      "source": [
        "def get_tag_score2(question, q2a, at2s):\n",
        "  t2s = {}\n",
        "  for a in q2a[question]:\n",
        "    if a in at2s:\n",
        "      for t, s in at2s[a].items():\n",
        "        if t not in t2s:\n",
        "          t2s[t] = 0.0\n",
        "        t2s[t] += s\n",
        "\n",
        "\n",
        "  final = []\n",
        "  tags = []\n",
        "  for tag, score in t2s.items():\n",
        "    tags.append(tag)\n",
        "    final.append(-score)\n",
        "  return tags, final\n",
        "\n",
        "def predict2(questions, at2s, a2q, a2t, q2t, st):\n",
        "    f = {}\n",
        "    t = {}\n",
        "    for q in tqdm(questions):\n",
        "        t[q], f[q] = get_tag_score2(q, q2a, at2s)\n",
        "        \n",
        "    return t, f\n",
        "\n",
        "def choose_tag5(questions, t, f, s, c, cnt):\n",
        "    q2t = {}\n",
        "    for q in tqdm(questions):\n",
        "        q2t[q] = []\n",
        "        tags = t[q]\n",
        "        finals = f[q]\n",
        "        top = [tuple([tags[i]]) for i in np.argsort(finals)[:cnt]]\n",
        "        q2t[q] = top\n",
        "    return q2t"
      ],
      "execution_count": 24,
      "outputs": []
    },
    {
      "cell_type": "markdown",
      "metadata": {
        "id": "ASJmPCiUZ0lB"
      },
      "source": [
        "## 4. Similarity"
      ]
    },
    {
      "cell_type": "code",
      "metadata": {
        "id": "PmsENol5iwjQ"
      },
      "source": [
        "def find_similar(q, q2a, q2t):\n",
        "  sim = {}\n",
        "  answerers = q2a[q]\n",
        "  for a in answerers:\n",
        "    for q2 in a2q[a]:\n",
        "      if q2 != q:\n",
        "        sim[q2] = len(set(answerers).intersection(set(q2a[q2]))) / len(set(answerers).union(set(q2a[q2])))\n",
        "  return sim\n",
        "\n",
        "def find_tag(q, sim, q2t):\n",
        "  tag = {}\n",
        "  for q2, w in sim.items():\n",
        "    if q2 in q2t:\n",
        "      for t in q2t[q2]:\n",
        "        if t not in tag:\n",
        "          tag[t] = 0.0\n",
        "        tag[t] += w\n",
        "  return tag\n",
        "\n",
        "def find_score(question, candidate_tags, support_tag):\n",
        "    ## PART.1 Tag Score from Answrer Confident\n",
        "    values = candidate_tags[question]\n",
        "\n",
        "    ## Part.2 Tag Score from Tag Supports\n",
        "    scores = [support_tag[tuple([t])] for t in candidate_tags[question].keys()]\n",
        "\n",
        "    scores = []\n",
        "    conf = []\n",
        "    final = []\n",
        "    tags = []\n",
        "    for tag in candidate_tags[question].keys():\n",
        "        tags.append(tag)\n",
        "        scores.append(-support_tag[tuple([tag])])\n",
        "        conf.append(-values[tag])\n",
        "        final.append(-abs(conf[-1] * scores[-1]))\n",
        "    return tags, scores, conf, final\n",
        "\n",
        "def find_candidate(questions):\n",
        "  candidate = {}\n",
        "  for q in questions:\n",
        "    sim = find_similar(q, q2a, q2t)\n",
        "    tag = find_tag(q, sim, q2t)\n",
        "    candidate[q] = tag\n",
        "  return candidate\n",
        "\n",
        "def find_predict(questions, candidates, st):\n",
        "    s = {}\n",
        "    c = {}\n",
        "    f = {}\n",
        "    t = {}\n",
        "    for q in tqdm(questions):\n",
        "        t[q], s[q], c[q], f[q] = find_score(q, candidates, st)\n",
        "        \n",
        "    return t, s, c, f\n",
        "def choose_tag4(questions, t, s, c, f, cnt):\n",
        "    q2t = {}\n",
        "    for q in tqdm(questions):\n",
        "        q2t[q] = []\n",
        "        tags = t[q]\n",
        "        confs = c[q]\n",
        "        scores = s[q]\n",
        "        finals = f[q]\n",
        "        top = [tuple([tags[i]]) for i in np.argsort(finals)[:cnt]]\n",
        "        # top = [tags[tuple([i])] for i in np.argsort(scores)[:cnt]]\n",
        "        # top = [tuple([tags[i]]) for i in np.argsort(confs)[:cnt]]\n",
        "\n",
        "        q2t[q] = top\n",
        "    return q2t"
      ],
      "execution_count": 25,
      "outputs": []
    },
    {
      "cell_type": "markdown",
      "metadata": {
        "id": "d3b9l3AJZCHu"
      },
      "source": [
        "## Community Detection"
      ]
    },
    {
      "cell_type": "code",
      "metadata": {
        "id": "APmMuRBQZvhV"
      },
      "source": [
        "def choose_edges_by_betweenness_centrality(graph, eps=1e-9):\n",
        "    ### WRITE YOUR CODE ###\n",
        "    # target_edges = []\n",
        "    #######################\n",
        "    ebc =  nx.edge_betweenness_centrality(graph)\n",
        "    m = max(ebc.values())\n",
        "    target_edges = [k for k,v in ebc.items() if v >= m - eps]\n",
        "    return target_edges\n",
        "  \n",
        "def choose_edges_by_weight(graph, eps=1e-9):\n",
        "    ### WRITE YOUR CODE ###\n",
        "    target_edges = []\n",
        "    #######################\n",
        "    e = graph.edges(data=True)\n",
        "    m = max([a[2]['weight'] for a in e])\n",
        "    target_edges = [a[:2] for a in e if a[2]['weight'] >= m - eps]\n",
        "    print(len(target_edges))\n",
        "    return target_edges"
      ],
      "execution_count": 26,
      "outputs": []
    },
    {
      "cell_type": "code",
      "metadata": {
        "id": "DS4IXN76ZrEL"
      },
      "source": [
        "def girvan_newman(_graph, method=\"betweenness\", visualize=True, break_condition=10):\n",
        "    graph = deepcopy(_graph)\n",
        "    # visualize = _graph is graph_small and visualize\n",
        "    choose_edges = choose_edges_by_betweenness_centrality if method == 'betweenness' else choose_edges_by_weight    \n",
        "    step_cnt = 0\n",
        "    \n",
        "    ### WRITE YOUR CODE ###\n",
        "    out_cc = []\n",
        "    out_mod = []\n",
        "    #######################\n",
        "    while graph.number_of_edges() > 0:\n",
        "        step_cnt += 1\n",
        "        ### WRITE YOUR CODE ###############################################\n",
        "        # Calculate edge centrality for every edge in the target network\n",
        "        # Remove the edge with highest centrality\n",
        "\n",
        "        target_edges = choose_edges(graph)\n",
        "        graph.remove_edges_from(target_edges)\n",
        "        number_of_connected_components =  nx.number_connected_components(graph)\n",
        "        cc = nx.connected_components(graph)\n",
        "        modularity = nx.algorithms.community.modularity(_graph, cc)\n",
        "        out_cc.append(number_of_connected_components)\n",
        "        out_mod.append(modularity)\n",
        "\n",
        "        ###################################################################\n",
        "        \n",
        "        if number_of_connected_components is not None and type(number_of_connected_components) == int and number_of_connected_components > break_condition:\n",
        "            break\n",
        "        \n",
        "        ### WRITE YOUR CODE ###\n",
        "        print(f\"Step #{step_cnt} | Number of connected components: {number_of_connected_components} / modularity: {modularity}\")\n",
        "        #######################\n",
        "        if visualize:\n",
        "            nx.draw_networkx_nodes(graph, _pos, node_color=_node_colors, node_size=100)\n",
        "            nx.draw_networkx_edges(graph, _pos, alpha=0.3)\n",
        "            plt.show()\n",
        "            print(\"\\n\")\n",
        "\n",
        "    return graph\n",
        "\n",
        "def plot_results(algorithm_outputs):\n",
        "    ### WRITE YOUR CODE #########################################\n",
        "    # Report the number of CC when the modularity is maximized\n",
        "    # Plot the execution result of the algorithm\n",
        "    max_id = np.argmax(algorithm_outputs[1])\n",
        "    max_cc = algorithm_outputs[0][max_id]\n",
        "    print(\"Number of connected components when the modularity is maximized:\", max_cc)\n",
        "    fig = plt.figure()\n",
        "    plt.plot(algorithm_outputs[0], algorithm_outputs[1])\n",
        "    plt.xlabel('# of connected components')\n",
        "    plt.ylabel('Modularity')\n",
        "    plt.show()\n",
        "    #############################################################"
      ],
      "execution_count": 27,
      "outputs": []
    },
    {
      "cell_type": "code",
      "metadata": {
        "id": "pcZxIEIYZIzF"
      },
      "source": [
        "for i in range(5,5):\n",
        "  print(i)"
      ],
      "execution_count": 28,
      "outputs": []
    },
    {
      "cell_type": "code",
      "metadata": {
        "id": "IWvJOhDa3R1N"
      },
      "source": [
        "import networkx as nx\n",
        "### You may import any Python's standard library here (Do not import other external libraries) ###\n",
        "import itertools\n",
        "from copy import deepcopy\n",
        "import pickle"
      ],
      "execution_count": 29,
      "outputs": []
    },
    {
      "cell_type": "code",
      "metadata": {
        "id": "wPUeDOPZXuSt"
      },
      "source": [
        "g = nx.Graph()\n",
        "\n",
        "a = {}\n",
        "for q, ts in q2t.items():\n",
        "  for t in range(len(ts)):\n",
        "    for t2 in range(t+1, len(ts)):\n",
        "      tt = tuple(sorted([ts[t], ts[t2]]))\n",
        "      if tt not in a:\n",
        "        a[tt] = 0.0\n",
        "      a[tt] -= 1.0\n",
        "\n",
        "for e, w in a.items():\n",
        "  g.add_edge(e[0], e[1], weight=w)"
      ],
      "execution_count": 30,
      "outputs": []
    },
    {
      "cell_type": "code",
      "metadata": {
        "id": "EvmqMedYYv_0",
        "colab": {
          "base_uri": "https://localhost:8080/"
        },
        "outputId": "111e4e51-f24d-427d-ed65-280ae07652cb"
      },
      "source": [
        "print(g.size())\n",
        "print(g.number_of_edges())\n",
        "print(nx.number_connected_components(g))\n",
        "g2 = girvan_newman(g, method=\"betweennes2s\", visualize=False, break_condition=6750)\n",
        "# print(algorithm_outputs)\n",
        "# plot_results(algorithm_outputs)"
      ],
      "execution_count": 31,
      "outputs": [
        {
          "output_type": "stream",
          "text": [
            "104160\n",
            "104160\n",
            "1\n",
            "72516\n",
            "Step #1 | Number of connected components: 704 / modularity: 0.0005692602035254019\n",
            "13364\n",
            "Step #2 | Number of connected components: 1945 / modularity: 0.0027402363632502078\n",
            "5642\n",
            "Step #3 | Number of connected components: 2977 / modularity: 0.004673711687109584\n",
            "3156\n",
            "Step #4 | Number of connected components: 3674 / modularity: 0.0053210126415529566\n",
            "1989\n",
            "Step #5 | Number of connected components: 4194 / modularity: 0.006279667718527651\n",
            "1352\n",
            "Step #6 | Number of connected components: 4580 / modularity: 0.007294559937824738\n",
            "902\n",
            "Step #7 | Number of connected components: 4845 / modularity: 0.008254431816070353\n",
            "729\n",
            "Step #8 | Number of connected components: 5072 / modularity: 0.009331722018011994\n",
            "549\n",
            "Step #9 | Number of connected components: 5243 / modularity: 0.010591862015707972\n",
            "452\n",
            "Step #10 | Number of connected components: 5389 / modularity: 0.011090497182874809\n",
            "334\n",
            "Step #11 | Number of connected components: 5498 / modularity: 0.012284395419791204\n",
            "303\n",
            "Step #12 | Number of connected components: 5602 / modularity: 0.012595437243161714\n",
            "253\n",
            "Step #13 | Number of connected components: 5678 / modularity: 0.015340465201286839\n",
            "204\n",
            "Step #14 | Number of connected components: 5759 / modularity: 0.015266983347941273\n",
            "193\n",
            "Step #15 | Number of connected components: 5817 / modularity: 0.015358355130643432\n",
            "171\n",
            "Step #16 | Number of connected components: 5880 / modularity: 0.01604787754926676\n",
            "140\n",
            "Step #17 | Number of connected components: 5923 / modularity: 0.019445855147500277\n",
            "129\n",
            "Step #18 | Number of connected components: 5977 / modularity: 0.020030310986481482\n",
            "110\n",
            "Step #19 | Number of connected components: 6026 / modularity: 0.022293602291810016\n",
            "95\n",
            "Step #20 | Number of connected components: 6052 / modularity: 0.02208428668499591\n",
            "98\n",
            "Step #21 | Number of connected components: 6089 / modularity: 0.022723899836317313\n",
            "80\n",
            "Step #22 | Number of connected components: 6121 / modularity: 0.022915039443940743\n",
            "60\n",
            "Step #23 | Number of connected components: 6148 / modularity: 0.02257443547265444\n",
            "79\n",
            "Step #24 | Number of connected components: 6176 / modularity: 0.02251568943796119\n",
            "71\n",
            "Step #25 | Number of connected components: 6208 / modularity: 0.02265455213771834\n",
            "50\n",
            "Step #26 | Number of connected components: 6228 / modularity: 0.021818256093615727\n",
            "38\n",
            "Step #27 | Number of connected components: 6242 / modularity: 0.022312865930956646\n",
            "42\n",
            "Step #28 | Number of connected components: 6265 / modularity: 0.022076845371369908\n",
            "53\n",
            "Step #29 | Number of connected components: 6290 / modularity: 0.023679477216379866\n",
            "47\n",
            "Step #30 | Number of connected components: 6302 / modularity: 0.023226204026233696\n",
            "40\n",
            "Step #31 | Number of connected components: 6316 / modularity: 0.022859908087814917\n",
            "34\n",
            "Step #32 | Number of connected components: 6329 / modularity: 0.022474166049933516\n",
            "36\n",
            "Step #33 | Number of connected components: 6339 / modularity: 0.022708897617199932\n",
            "31\n",
            "Step #34 | Number of connected components: 6350 / modularity: 0.022385227738469748\n",
            "24\n",
            "Step #35 | Number of connected components: 6365 / modularity: 0.02299759657087875\n",
            "29\n",
            "Step #36 | Number of connected components: 6374 / modularity: 0.023012159792786716\n",
            "28\n",
            "Step #37 | Number of connected components: 6389 / modularity: 0.02385797923595879\n",
            "22\n",
            "Step #38 | Number of connected components: 6399 / modularity: 0.023558915906071953\n",
            "25\n",
            "Step #39 | Number of connected components: 6412 / modularity: 0.023073143818277953\n",
            "23\n",
            "Step #40 | Number of connected components: 6420 / modularity: 0.02306050568925998\n",
            "16\n",
            "Step #41 | Number of connected components: 6427 / modularity: 0.0227887156387397\n",
            "22\n",
            "Step #42 | Number of connected components: 6435 / modularity: 0.022475258810753438\n",
            "17\n",
            "Step #43 | Number of connected components: 6441 / modularity: 0.022266569041772738\n",
            "18\n",
            "Step #44 | Number of connected components: 6448 / modularity: 0.021933049431019324\n",
            "17\n",
            "Step #45 | Number of connected components: 6454 / modularity: 0.022076661965663623\n",
            "12\n",
            "Step #46 | Number of connected components: 6461 / modularity: 0.02182096545598652\n",
            "10\n",
            "Step #47 | Number of connected components: 6467 / modularity: 0.021805297004611843\n",
            "14\n",
            "Step #48 | Number of connected components: 6476 / modularity: 0.021155408464564728\n",
            "11\n",
            "Step #49 | Number of connected components: 6480 / modularity: 0.021258122692702552\n",
            "15\n",
            "Step #50 | Number of connected components: 6486 / modularity: 0.021975127537273653\n",
            "16\n",
            "Step #51 | Number of connected components: 6491 / modularity: 0.021874860572567337\n",
            "13\n",
            "Step #52 | Number of connected components: 6498 / modularity: 0.021744897251296507\n",
            "11\n",
            "Step #53 | Number of connected components: 6505 / modularity: 0.021185831721179185\n",
            "16\n",
            "Step #54 | Number of connected components: 6514 / modularity: 0.021283154588370566\n",
            "9\n",
            "Step #55 | Number of connected components: 6518 / modularity: 0.021094859985608366\n",
            "10\n",
            "Step #56 | Number of connected components: 6523 / modularity: 0.02059189621793136\n",
            "12\n",
            "Step #57 | Number of connected components: 6528 / modularity: 0.019890232189243604\n",
            "12\n",
            "Step #58 | Number of connected components: 6533 / modularity: 0.019395094498515272\n",
            "13\n",
            "Step #59 | Number of connected components: 6539 / modularity: 0.01909420108745733\n",
            "9\n",
            "Step #60 | Number of connected components: 6546 / modularity: 0.019113372157143132\n",
            "10\n",
            "Step #61 | Number of connected components: 6553 / modularity: 0.026931384349384305\n",
            "8\n",
            "Step #62 | Number of connected components: 6557 / modularity: 0.026622451497305192\n",
            "6\n",
            "Step #63 | Number of connected components: 6560 / modularity: 0.05809489231886696\n",
            "12\n",
            "Step #64 | Number of connected components: 6567 / modularity: 0.05786739355415738\n",
            "9\n",
            "Step #65 | Number of connected components: 6572 / modularity: 0.057786605814337234\n",
            "6\n",
            "Step #66 | Number of connected components: 6576 / modularity: 0.05731203493592947\n",
            "6\n",
            "Step #67 | Number of connected components: 6581 / modularity: 0.056553619257290785\n",
            "9\n",
            "Step #68 | Number of connected components: 6585 / modularity: 0.05595060103812876\n",
            "6\n",
            "Step #69 | Number of connected components: 6589 / modularity: 0.05539038421177928\n",
            "5\n",
            "Step #70 | Number of connected components: 6591 / modularity: 0.05541625260448659\n",
            "8\n",
            "Step #71 | Number of connected components: 6594 / modularity: 0.055397699998590344\n",
            "6\n",
            "Step #72 | Number of connected components: 6596 / modularity: 0.055195571085550364\n",
            "2\n",
            "Step #73 | Number of connected components: 6598 / modularity: 0.054897898703068874\n",
            "3\n",
            "Step #74 | Number of connected components: 6599 / modularity: 0.054795490366446896\n",
            "4\n",
            "Step #75 | Number of connected components: 6600 / modularity: 0.055267795323027266\n",
            "5\n",
            "Step #76 | Number of connected components: 6604 / modularity: 0.05410009894421621\n",
            "2\n",
            "Step #77 | Number of connected components: 6606 / modularity: 0.05377244994948612\n",
            "7\n",
            "Step #78 | Number of connected components: 6610 / modularity: 0.05329162998382962\n",
            "4\n",
            "Step #79 | Number of connected components: 6613 / modularity: 0.05280592643157577\n",
            "5\n",
            "Step #80 | Number of connected components: 6617 / modularity: 0.05237698316908922\n",
            "8\n",
            "Step #81 | Number of connected components: 6623 / modularity: 0.05213722307639769\n",
            "5\n",
            "Step #82 | Number of connected components: 6626 / modularity: 0.052092285348498475\n",
            "3\n",
            "Step #83 | Number of connected components: 6627 / modularity: 0.05196412497569883\n",
            "5\n",
            "Step #84 | Number of connected components: 6629 / modularity: 0.058939858573609824\n",
            "3\n",
            "Step #85 | Number of connected components: 6632 / modularity: 0.058530659082458865\n",
            "1\n",
            "Step #86 | Number of connected components: 6632 / modularity: 0.058530659082458865\n",
            "3\n",
            "Step #87 | Number of connected components: 6633 / modularity: 0.05851843949345586\n",
            "2\n",
            "Step #88 | Number of connected components: 6635 / modularity: 0.05801100800059089\n",
            "3\n",
            "Step #89 | Number of connected components: 6637 / modularity: 0.0579231897979857\n",
            "7\n",
            "Step #90 | Number of connected components: 6641 / modularity: 0.05776562686439448\n",
            "2\n",
            "Step #91 | Number of connected components: 6641 / modularity: 0.05776562686439448\n",
            "3\n",
            "Step #92 | Number of connected components: 6643 / modularity: 0.057504742599315234\n",
            "2\n",
            "Step #93 | Number of connected components: 6645 / modularity: 0.05710033919889505\n",
            "2\n",
            "Step #94 | Number of connected components: 6646 / modularity: 0.056907257959304465\n",
            "4\n",
            "Step #95 | Number of connected components: 6649 / modularity: 0.058827320779749656\n",
            "6\n",
            "Step #96 | Number of connected components: 6652 / modularity: 0.058336580188306356\n",
            "2\n",
            "Step #97 | Number of connected components: 6653 / modularity: 0.058213629015510734\n",
            "3\n",
            "Step #98 | Number of connected components: 6655 / modularity: 0.057722188604195715\n",
            "1\n",
            "Step #99 | Number of connected components: 6656 / modularity: 0.05770863644038239\n",
            "5\n",
            "Step #100 | Number of connected components: 6659 / modularity: 0.057448823953711925\n",
            "3\n",
            "Step #101 | Number of connected components: 6661 / modularity: 0.05677774842009579\n",
            "4\n",
            "Step #102 | Number of connected components: 6662 / modularity: 0.05666837521501483\n",
            "5\n",
            "Step #103 | Number of connected components: 6665 / modularity: 0.055787539567851124\n",
            "1\n",
            "Step #104 | Number of connected components: 6665 / modularity: 0.055787539567851124\n",
            "5\n",
            "Step #105 | Number of connected components: 6667 / modularity: 0.05459867952034906\n",
            "3\n",
            "Step #106 | Number of connected components: 6670 / modularity: 0.053483807561656625\n",
            "4\n",
            "Step #107 | Number of connected components: 6672 / modularity: 0.05300632375735104\n",
            "3\n",
            "Step #108 | Number of connected components: 6675 / modularity: 0.05234229312472974\n",
            "2\n",
            "Step #109 | Number of connected components: 6677 / modularity: 0.05210356917448716\n",
            "3\n",
            "Step #110 | Number of connected components: 6678 / modularity: 0.05182651186649788\n",
            "1\n",
            "Step #111 | Number of connected components: 6679 / modularity: 0.05195790291610657\n",
            "3\n",
            "Step #112 | Number of connected components: 6681 / modularity: 0.051424871200979626\n",
            "1\n",
            "Step #113 | Number of connected components: 6682 / modularity: 0.05084036924796348\n",
            "3\n",
            "Step #114 | Number of connected components: 6683 / modularity: 0.049856488144687544\n",
            "1\n",
            "Step #115 | Number of connected components: 6684 / modularity: 0.04946978763341743\n",
            "5\n",
            "Step #116 | Number of connected components: 6687 / modularity: 0.05155629593274163\n",
            "1\n",
            "Step #117 | Number of connected components: 6688 / modularity: 0.05109305465821874\n",
            "1\n",
            "Step #118 | Number of connected components: 6688 / modularity: 0.05109305465821874\n",
            "2\n",
            "Step #119 | Number of connected components: 6690 / modularity: 0.05085957676244293\n",
            "3\n",
            "Step #120 | Number of connected components: 6690 / modularity: 0.05085957676244293\n",
            "3\n",
            "Step #121 | Number of connected components: 6691 / modularity: 0.05104775458850205\n",
            "1\n",
            "Step #122 | Number of connected components: 6691 / modularity: 0.05104775458850205\n",
            "1\n",
            "Step #123 | Number of connected components: 6691 / modularity: 0.05104775458850205\n",
            "1\n",
            "Step #124 | Number of connected components: 6691 / modularity: 0.05104775458850205\n",
            "1\n",
            "Step #125 | Number of connected components: 6692 / modularity: 0.050591968650893764\n",
            "1\n",
            "Step #126 | Number of connected components: 6693 / modularity: 0.05056994193020215\n",
            "3\n",
            "Step #127 | Number of connected components: 6694 / modularity: 0.05012253172467926\n",
            "2\n",
            "Step #128 | Number of connected components: 6694 / modularity: 0.05012253172467926\n",
            "2\n",
            "Step #129 | Number of connected components: 6694 / modularity: 0.05012253172467926\n",
            "2\n",
            "Step #130 | Number of connected components: 6695 / modularity: 0.049462345658018214\n",
            "1\n",
            "Step #131 | Number of connected components: 6696 / modularity: 0.04920529800186472\n",
            "1\n",
            "Step #132 | Number of connected components: 6696 / modularity: 0.04920529800186472\n",
            "2\n",
            "Step #133 | Number of connected components: 6697 / modularity: 0.04875295434040947\n",
            "1\n",
            "Step #134 | Number of connected components: 6697 / modularity: 0.04875295434040947\n",
            "1\n",
            "Step #135 | Number of connected components: 6697 / modularity: 0.04875295434040947\n",
            "2\n",
            "Step #136 | Number of connected components: 6697 / modularity: 0.04875295434040947\n",
            "1\n",
            "Step #137 | Number of connected components: 6698 / modularity: 0.04879874069260385\n",
            "3\n",
            "Step #138 | Number of connected components: 6698 / modularity: 0.04879874069260385\n",
            "2\n",
            "Step #139 | Number of connected components: 6699 / modularity: 0.048647847896812695\n",
            "1\n",
            "Step #140 | Number of connected components: 6700 / modularity: 0.04863106532930304\n",
            "2\n",
            "Step #141 | Number of connected components: 6701 / modularity: 0.04819764594341186\n",
            "1\n",
            "Step #142 | Number of connected components: 6702 / modularity: 0.048145060754293006\n",
            "4\n",
            "Step #143 | Number of connected components: 6705 / modularity: 0.04885632243720129\n",
            "1\n",
            "Step #144 | Number of connected components: 6706 / modularity: 0.04857049922407093\n",
            "2\n",
            "Step #145 | Number of connected components: 6708 / modularity: 0.0659501316677373\n",
            "2\n",
            "Step #146 | Number of connected components: 6709 / modularity: 0.06541714074619916\n",
            "1\n",
            "Step #147 | Number of connected components: 6710 / modularity: 0.06485019852399021\n",
            "1\n",
            "Step #148 | Number of connected components: 6710 / modularity: 0.06485019852399021\n",
            "1\n",
            "Step #149 | Number of connected components: 6711 / modularity: 0.06433337637009738\n",
            "2\n",
            "Step #150 | Number of connected components: 6712 / modularity: 0.06342741925154052\n",
            "1\n",
            "Step #151 | Number of connected components: 6713 / modularity: 0.07990557593646573\n",
            "2\n",
            "Step #152 | Number of connected components: 6714 / modularity: 0.07891565041767545\n",
            "3\n",
            "Step #153 | Number of connected components: 6717 / modularity: 0.07697066883851293\n",
            "2\n",
            "Step #154 | Number of connected components: 6719 / modularity: 0.07642188847140606\n",
            "1\n",
            "Step #155 | Number of connected components: 6720 / modularity: 0.07567662176865278\n",
            "2\n",
            "Step #156 | Number of connected components: 6722 / modularity: 0.07447564913981838\n",
            "2\n",
            "Step #157 | Number of connected components: 6723 / modularity: 0.07381863250968762\n",
            "1\n",
            "Step #158 | Number of connected components: 6723 / modularity: 0.07381863250968762\n",
            "2\n",
            "Step #159 | Number of connected components: 6725 / modularity: 0.072745511394662\n",
            "1\n",
            "Step #160 | Number of connected components: 6725 / modularity: 0.072745511394662\n",
            "1\n",
            "Step #161 | Number of connected components: 6725 / modularity: 0.072745511394662\n",
            "2\n",
            "Step #162 | Number of connected components: 6726 / modularity: 0.07186706087253035\n",
            "1\n",
            "Step #163 | Number of connected components: 6726 / modularity: 0.07186706087253035\n",
            "1\n",
            "Step #164 | Number of connected components: 6726 / modularity: 0.07186706087253035\n",
            "2\n",
            "Step #165 | Number of connected components: 6728 / modularity: 0.07146789952967714\n",
            "1\n",
            "Step #166 | Number of connected components: 6729 / modularity: 0.07105181013426093\n",
            "1\n",
            "Step #167 | Number of connected components: 6729 / modularity: 0.07105181013426093\n",
            "2\n",
            "Step #168 | Number of connected components: 6731 / modularity: 0.0699230862757801\n",
            "1\n",
            "Step #169 | Number of connected components: 6732 / modularity: 0.06892115787769026\n",
            "1\n",
            "Step #170 | Number of connected components: 6733 / modularity: 0.06851946008434079\n",
            "3\n",
            "Step #171 | Number of connected components: 6734 / modularity: 0.06797916114920015\n",
            "1\n",
            "Step #172 | Number of connected components: 6735 / modularity: 0.0867319077713042\n",
            "2\n",
            "Step #173 | Number of connected components: 6736 / modularity: 0.08544996225322364\n",
            "1\n",
            "Step #174 | Number of connected components: 6737 / modularity: 0.08486142272232576\n",
            "1\n",
            "Step #175 | Number of connected components: 6738 / modularity: 0.08404040930008513\n",
            "1\n",
            "Step #176 | Number of connected components: 6739 / modularity: 0.08238563837460103\n",
            "1\n",
            "Step #177 | Number of connected components: 6740 / modularity: 0.08126716279315489\n",
            "1\n",
            "Step #178 | Number of connected components: 6740 / modularity: 0.08126716279315489\n",
            "2\n",
            "Step #179 | Number of connected components: 6742 / modularity: 0.07990193105268033\n",
            "1\n",
            "Step #180 | Number of connected components: 6743 / modularity: 0.0790683697336678\n",
            "1\n",
            "Step #181 | Number of connected components: 6744 / modularity: 0.07715860068978861\n",
            "1\n",
            "Step #182 | Number of connected components: 6745 / modularity: 0.07668079995916216\n",
            "1\n",
            "Step #183 | Number of connected components: 6745 / modularity: 0.07668079995916216\n",
            "1\n",
            "Step #184 | Number of connected components: 6746 / modularity: 0.07550793909205315\n",
            "1\n",
            "Step #185 | Number of connected components: 6747 / modularity: 0.07519227132718617\n",
            "1\n",
            "Step #186 | Number of connected components: 6748 / modularity: 0.0733197583111033\n",
            "1\n",
            "Step #187 | Number of connected components: 6749 / modularity: 0.08699968097950199\n",
            "1\n",
            "Step #188 | Number of connected components: 6750 / modularity: 0.08587247117924426\n",
            "1\n"
          ],
          "name": "stdout"
        }
      ]
    },
    {
      "cell_type": "code",
      "metadata": {
        "id": "d08B_-z0ZSvt",
        "colab": {
          "base_uri": "https://localhost:8080/"
        },
        "outputId": "1340bc4c-d11a-4e43-8fa1-cf0a2b87f6db"
      },
      "source": [
        "c = nx.connected_components(g2)\n",
        "a=[c for c in c]\n",
        "b = [c for c in a if len(c) > 1]\n",
        "c = [len(c) for c in a if len(c) > 1]\n",
        "a"
      ],
      "execution_count": 32,
      "outputs": [
        {
          "output_type": "execute_result",
          "data": {
            "text/plain": [
              "[{130, 131, 284, 647, 10091},\n",
              " {28514},\n",
              " {6,\n",
              "  7,\n",
              "  22,\n",
              "  37,\n",
              "  38,\n",
              "  43,\n",
              "  102,\n",
              "  195,\n",
              "  274,\n",
              "  597,\n",
              "  747,\n",
              "  1042,\n",
              "  1130,\n",
              "  7656,\n",
              "  17019,\n",
              "  27049,\n",
              "  33737},\n",
              " {1623},\n",
              " {6153},\n",
              " {509},\n",
              " {26288},\n",
              " {438},\n",
              " {4620},\n",
              " {418},\n",
              " {14457},\n",
              " {119, 177, 2009, 25231},\n",
              " {75, 340, 853, 1674},\n",
              " {13659},\n",
              " {4570},\n",
              " {18793},\n",
              " {73},\n",
              " {700},\n",
              " {146},\n",
              " {5631},\n",
              " {38343},\n",
              " {11059},\n",
              " {35269},\n",
              " {2686},\n",
              " {207},\n",
              " {10},\n",
              " {1441},\n",
              " {1, 9, 19, 72, 143, 288, 317},\n",
              " {5618},\n",
              " {32},\n",
              " {1154},\n",
              " {6440},\n",
              " {299},\n",
              " {27},\n",
              " {2339},\n",
              " {469},\n",
              " {6922},\n",
              " {43744},\n",
              " {611},\n",
              " {3751},\n",
              " {33},\n",
              " {800},\n",
              " {6758},\n",
              " {363},\n",
              " {238},\n",
              " {34},\n",
              " {10543},\n",
              " {570},\n",
              " {1889},\n",
              " {1340},\n",
              " {898},\n",
              " {796},\n",
              " {951},\n",
              " {1951},\n",
              " {1678},\n",
              " {1229},\n",
              " {5157},\n",
              " {4785},\n",
              " {247},\n",
              " {128},\n",
              " {140},\n",
              " {292},\n",
              " {5672},\n",
              " {3579},\n",
              " {1187},\n",
              " {15146},\n",
              " {5482},\n",
              " {267},\n",
              " {47},\n",
              " {134},\n",
              " {849},\n",
              " {3551},\n",
              " {3834},\n",
              " {33345},\n",
              " {39754},\n",
              " {26},\n",
              " {2107},\n",
              " {470},\n",
              " {5102},\n",
              " {50, 138},\n",
              " {8013},\n",
              " {1944},\n",
              " {152},\n",
              " {7832},\n",
              " {8014},\n",
              " {201},\n",
              " {505},\n",
              " {4733},\n",
              " {19835},\n",
              " {26571},\n",
              " {126},\n",
              " {27328},\n",
              " {20601},\n",
              " {809},\n",
              " {595},\n",
              " {2602},\n",
              " {3927},\n",
              " {5014},\n",
              " {3678},\n",
              " {1087},\n",
              " {120},\n",
              " {834},\n",
              " {6996},\n",
              " {398},\n",
              " {1113},\n",
              " {295},\n",
              " {41},\n",
              " {18036},\n",
              " {1756},\n",
              " {2185},\n",
              " {405},\n",
              " {183},\n",
              " {4551},\n",
              " {576},\n",
              " {116},\n",
              " {2415},\n",
              " {46362},\n",
              " {373},\n",
              " {3101},\n",
              " {114},\n",
              " {936},\n",
              " {844},\n",
              " {1679},\n",
              " {21397},\n",
              " {555},\n",
              " {15322},\n",
              " {404},\n",
              " {18},\n",
              " {107},\n",
              " {790},\n",
              " {748},\n",
              " {2615},\n",
              " {9594},\n",
              " {645},\n",
              " {12572},\n",
              " {882},\n",
              " {976},\n",
              " {846},\n",
              " {1037},\n",
              " {28739},\n",
              " {622},\n",
              " {810},\n",
              " {31147},\n",
              " {32066},\n",
              " {43507},\n",
              " {1317},\n",
              " {510},\n",
              " {1019},\n",
              " {2789},\n",
              " {9261},\n",
              " {1348},\n",
              " {3773},\n",
              " {7658},\n",
              " {3378},\n",
              " {19376},\n",
              " {3379},\n",
              " {12778},\n",
              " {12176},\n",
              " {33553},\n",
              " {35931},\n",
              " {34451},\n",
              " {33836},\n",
              " {13441},\n",
              " {24504},\n",
              " {28875},\n",
              " {14},\n",
              " {3449},\n",
              " {156},\n",
              " {41258},\n",
              " {9574},\n",
              " {7208},\n",
              " {147},\n",
              " {16898},\n",
              " {3514},\n",
              " {60},\n",
              " {1577},\n",
              " {13010},\n",
              " {76},\n",
              " {2651},\n",
              " {7135},\n",
              " {1601},\n",
              " {5101},\n",
              " {4150},\n",
              " {1227},\n",
              " {353},\n",
              " {922},\n",
              " {2202},\n",
              " {85},\n",
              " {16419},\n",
              " {18876},\n",
              " {772},\n",
              " {28364},\n",
              " {29437},\n",
              " {1197},\n",
              " {4946},\n",
              " {3782},\n",
              " {31235},\n",
              " {603},\n",
              " {23},\n",
              " {1626},\n",
              " {22550},\n",
              " {15459},\n",
              " {379, 1002, 1702},\n",
              " {4087},\n",
              " {5866},\n",
              " {2621},\n",
              " {83},\n",
              " {1160},\n",
              " {68},\n",
              " {1509},\n",
              " {13827},\n",
              " {406},\n",
              " {3604},\n",
              " {36457},\n",
              " {1605},\n",
              " {461},\n",
              " {7148},\n",
              " {3374},\n",
              " {17073},\n",
              " {8601},\n",
              " {205},\n",
              " {923},\n",
              " {1818},\n",
              " {2921},\n",
              " {12612},\n",
              " {822},\n",
              " {953},\n",
              " {1026},\n",
              " {396},\n",
              " {20373},\n",
              " {359},\n",
              " {435},\n",
              " {17936},\n",
              " {36861},\n",
              " {683},\n",
              " {6812},\n",
              " {294},\n",
              " {1085},\n",
              " {7238},\n",
              " {89},\n",
              " {3142},\n",
              " {263},\n",
              " {2351},\n",
              " {145},\n",
              " {52},\n",
              " {20213},\n",
              " {893},\n",
              " {19618},\n",
              " {15506},\n",
              " {625},\n",
              " {33872},\n",
              " {4472},\n",
              " {10227},\n",
              " {122},\n",
              " {6367},\n",
              " {182},\n",
              " {1882},\n",
              " {17605},\n",
              " {612},\n",
              " {5295},\n",
              " {1059},\n",
              " {17570},\n",
              " {124},\n",
              " {1108},\n",
              " {4986},\n",
              " {3244},\n",
              " {17668},\n",
              " {548},\n",
              " {333},\n",
              " {272},\n",
              " {824},\n",
              " {468},\n",
              " {37171},\n",
              " {45436},\n",
              " {2033},\n",
              " {862},\n",
              " {12392},\n",
              " {3216},\n",
              " {15359},\n",
              " {108},\n",
              " {674},\n",
              " {11727},\n",
              " {32112},\n",
              " {478},\n",
              " {264},\n",
              " {8745},\n",
              " {388},\n",
              " {701},\n",
              " {29},\n",
              " {1915},\n",
              " {222},\n",
              " {851},\n",
              " {491},\n",
              " {9155},\n",
              " {933},\n",
              " {14534},\n",
              " {2341},\n",
              " {27277},\n",
              " {407},\n",
              " {335},\n",
              " {6989},\n",
              " {2722},\n",
              " {4136},\n",
              " {18545},\n",
              " {2636},\n",
              " {5973},\n",
              " {458},\n",
              " {22799},\n",
              " {3307},\n",
              " {20842},\n",
              " {717},\n",
              " {1252},\n",
              " {14290},\n",
              " {694},\n",
              " {31418},\n",
              " {32780},\n",
              " {7374},\n",
              " {154},\n",
              " {252},\n",
              " {2764},\n",
              " {4537},\n",
              " {2069},\n",
              " {1833},\n",
              " {290},\n",
              " {6161},\n",
              " {4036},\n",
              " {37221},\n",
              " {1379},\n",
              " {852},\n",
              " {3060},\n",
              " {233},\n",
              " {707},\n",
              " {18396},\n",
              " {275},\n",
              " {200},\n",
              " {3121},\n",
              " {17716},\n",
              " {4307},\n",
              " {228},\n",
              " {538},\n",
              " {6907},\n",
              " {6496},\n",
              " {309},\n",
              " {6543},\n",
              " {13990},\n",
              " {14420},\n",
              " {1157},\n",
              " {20225},\n",
              " {4430},\n",
              " {2823},\n",
              " {916},\n",
              " {9990},\n",
              " {332},\n",
              " {15188},\n",
              " {3059},\n",
              " {2798},\n",
              " {20256},\n",
              " {27305},\n",
              " {1708},\n",
              " {3199},\n",
              " {42562},\n",
              " {773},\n",
              " {1201},\n",
              " {20340},\n",
              " {3397},\n",
              " {3395},\n",
              " {2134},\n",
              " {1058},\n",
              " {7554},\n",
              " {6937},\n",
              " {384},\n",
              " {4848},\n",
              " {23369},\n",
              " {42411},\n",
              " {917},\n",
              " {39331},\n",
              " {3151},\n",
              " {456},\n",
              " {457},\n",
              " {2645},\n",
              " {53377},\n",
              " {30877},\n",
              " {8424},\n",
              " {2365},\n",
              " {5271},\n",
              " {361},\n",
              " {22393},\n",
              " {11227},\n",
              " {227},\n",
              " {15136},\n",
              " {1243},\n",
              " {9437},\n",
              " {1470},\n",
              " {1902},\n",
              " {209},\n",
              " {248},\n",
              " {24881},\n",
              " {36943},\n",
              " {4},\n",
              " {13012},\n",
              " {888},\n",
              " {1122},\n",
              " {1045},\n",
              " {2886},\n",
              " {1084},\n",
              " {23811},\n",
              " {5616},\n",
              " {9804},\n",
              " {20852},\n",
              " {4003},\n",
              " {2},\n",
              " {11162},\n",
              " {600},\n",
              " {1309},\n",
              " {714},\n",
              " {24425},\n",
              " {13980},\n",
              " {13832},\n",
              " {644},\n",
              " {9944},\n",
              " {1945},\n",
              " {1682},\n",
              " {564},\n",
              " {6965},\n",
              " {1006},\n",
              " {3319},\n",
              " {2119},\n",
              " {1203},\n",
              " {5975},\n",
              " {1093},\n",
              " {5382},\n",
              " {657},\n",
              " {105},\n",
              " {3209},\n",
              " {2519},\n",
              " {257},\n",
              " {7199},\n",
              " {13634},\n",
              " {25111},\n",
              " {8758},\n",
              " {2078},\n",
              " {4112},\n",
              " {3113},\n",
              " {665},\n",
              " {10247},\n",
              " {30942},\n",
              " {15373},\n",
              " {135},\n",
              " {3698},\n",
              " {35423},\n",
              " {1474},\n",
              " {1050},\n",
              " {32652},\n",
              " {45785},\n",
              " {3849},\n",
              " {3921},\n",
              " {9376},\n",
              " {323},\n",
              " {2609},\n",
              " {28077},\n",
              " {501},\n",
              " {515},\n",
              " {327},\n",
              " {214},\n",
              " {1178},\n",
              " {1918},\n",
              " {7050},\n",
              " {4705},\n",
              " {12616},\n",
              " {2283},\n",
              " {17364},\n",
              " {25356},\n",
              " {1619},\n",
              " {1179},\n",
              " {3836},\n",
              " {14077},\n",
              " {1560},\n",
              " {5240},\n",
              " {5574},\n",
              " {6626},\n",
              " {211},\n",
              " {40135},\n",
              " {3039},\n",
              " {1427},\n",
              " {4030},\n",
              " {5516},\n",
              " {31348},\n",
              " {242},\n",
              " {4678},\n",
              " {451},\n",
              " {27037},\n",
              " {1356},\n",
              " {32813},\n",
              " {49403},\n",
              " {1743},\n",
              " {46576},\n",
              " {32477},\n",
              " {3188},\n",
              " {7968},\n",
              " {6653},\n",
              " {17810},\n",
              " {45614},\n",
              " {41044},\n",
              " {37791},\n",
              " {12081},\n",
              " {314},\n",
              " {10114},\n",
              " {20219},\n",
              " {1096},\n",
              " {1800},\n",
              " {1440},\n",
              " {3364},\n",
              " {11679},\n",
              " {14400},\n",
              " {25072},\n",
              " {4207},\n",
              " {21565},\n",
              " {28910},\n",
              " {624},\n",
              " {1733},\n",
              " {17271},\n",
              " {608},\n",
              " {8204},\n",
              " {6751},\n",
              " {26744},\n",
              " {11352},\n",
              " {15025},\n",
              " {1256},\n",
              " {112},\n",
              " {2735},\n",
              " {86},\n",
              " {22526},\n",
              " {1208},\n",
              " {5367},\n",
              " {432},\n",
              " {3677},\n",
              " {10998},\n",
              " {18306},\n",
              " {952},\n",
              " {3259},\n",
              " {11},\n",
              " {2279},\n",
              " {9251},\n",
              " {10683},\n",
              " {511},\n",
              " {664},\n",
              " {10858},\n",
              " {793},\n",
              " {39},\n",
              " {113},\n",
              " {549},\n",
              " {41985},\n",
              " {11210},\n",
              " {610},\n",
              " {5140},\n",
              " {9999},\n",
              " {168},\n",
              " {3424},\n",
              " {4689},\n",
              " {476},\n",
              " {17051},\n",
              " {20},\n",
              " {3565},\n",
              " {6293},\n",
              " {11583},\n",
              " {13017},\n",
              " {387},\n",
              " {4110},\n",
              " {920},\n",
              " {29941},\n",
              " {9942},\n",
              " {320},\n",
              " {31},\n",
              " {2306},\n",
              " {2228},\n",
              " {26944},\n",
              " {954},\n",
              " {20983},\n",
              " {4055},\n",
              " {33765},\n",
              " {27574},\n",
              " {30315},\n",
              " {399},\n",
              " {4067},\n",
              " {812},\n",
              " {1288},\n",
              " {439},\n",
              " {896},\n",
              " {181},\n",
              " {24776},\n",
              " {29360},\n",
              " {31028},\n",
              " {18725},\n",
              " {4723},\n",
              " {798},\n",
              " {1416},\n",
              " {15408},\n",
              " {466},\n",
              " {9388},\n",
              " {2654},\n",
              " {5142},\n",
              " {5895},\n",
              " {7925},\n",
              " {17762},\n",
              " {30352},\n",
              " {15986},\n",
              " {337},\n",
              " {57},\n",
              " {904},\n",
              " {5837},\n",
              " {278},\n",
              " {26058},\n",
              " {142},\n",
              " {188},\n",
              " {15658},\n",
              " {7584},\n",
              " {614},\n",
              " {4464},\n",
              " {10036},\n",
              " {1222},\n",
              " {1627},\n",
              " {13701},\n",
              " {12849},\n",
              " {2796},\n",
              " {910},\n",
              " {28919},\n",
              " {2024},\n",
              " {21850},\n",
              " {22627},\n",
              " {4681},\n",
              " {1535},\n",
              " {16},\n",
              " {673},\n",
              " {32430},\n",
              " {1175},\n",
              " {6537},\n",
              " {13859},\n",
              " {413},\n",
              " {2460},\n",
              " {4854},\n",
              " {19598},\n",
              " {19431},\n",
              " {2699},\n",
              " {6530},\n",
              " {9557},\n",
              " {23167},\n",
              " {34640},\n",
              " {29890},\n",
              " {1736},\n",
              " {21113},\n",
              " {2597},\n",
              " {339},\n",
              " {2893},\n",
              " {26181},\n",
              " {7467},\n",
              " {15833},\n",
              " {1523},\n",
              " {9360},\n",
              " {5035},\n",
              " {78},\n",
              " {162},\n",
              " {38586},\n",
              " {45202},\n",
              " {293},\n",
              " {80},\n",
              " {386},\n",
              " {36337},\n",
              " {336},\n",
              " {4366},\n",
              " {3380},\n",
              " {5628},\n",
              " {318},\n",
              " {4625},\n",
              " {481},\n",
              " {18362},\n",
              " {39249},\n",
              " {7418},\n",
              " {3525},\n",
              " {2382},\n",
              " {2432},\n",
              " {34552},\n",
              " {34553},\n",
              " {1861},\n",
              " {12420},\n",
              " {385},\n",
              " {4657},\n",
              " {2330},\n",
              " {1555},\n",
              " {2356},\n",
              " {10482},\n",
              " {1013},\n",
              " {24600},\n",
              " {1855},\n",
              " {23791},\n",
              " {4161},\n",
              " {15210},\n",
              " {6463},\n",
              " {5575},\n",
              " {186},\n",
              " {349},\n",
              " {1722},\n",
              " {377},\n",
              " {8226},\n",
              " {723},\n",
              " {5444},\n",
              " {15111},\n",
              " {2787},\n",
              " {251},\n",
              " {15625},\n",
              " {4239},\n",
              " {37249},\n",
              " {42899},\n",
              " {41441},\n",
              " {92},\n",
              " {977},\n",
              " {245},\n",
              " {42},\n",
              " {25583},\n",
              " {41450},\n",
              " {1200},\n",
              " {7416},\n",
              " {16844},\n",
              " {4457},\n",
              " {1498},\n",
              " {166},\n",
              " {3536},\n",
              " {1581},\n",
              " {24992},\n",
              " {1841},\n",
              " {17288},\n",
              " {5779},\n",
              " {23597},\n",
              " {757},\n",
              " {226},\n",
              " {5378},\n",
              " {5583},\n",
              " {535},\n",
              " {34797},\n",
              " {2617},\n",
              " {2822},\n",
              " {382},\n",
              " {30238},\n",
              " {22974},\n",
              " {506},\n",
              " {8099},\n",
              " {46338},\n",
              " {594},\n",
              " {924},\n",
              " {17346},\n",
              " {2971},\n",
              " {16339},\n",
              " {4205},\n",
              " {18758},\n",
              " {447},\n",
              " {381},\n",
              " {2131},\n",
              " {11876},\n",
              " {11222},\n",
              " {1750},\n",
              " {215},\n",
              " {61},\n",
              " {8413},\n",
              " {6190},\n",
              " {530},\n",
              " {662},\n",
              " {4009},\n",
              " {14111},\n",
              " {513},\n",
              " {1185},\n",
              " {12537},\n",
              " {71},\n",
              " {4344},\n",
              " {1316},\n",
              " {797},\n",
              " {4993},\n",
              " {2316},\n",
              " {23520},\n",
              " {1699},\n",
              " {33705},\n",
              " {33403},\n",
              " {38237},\n",
              " {331},\n",
              " {23117},\n",
              " {24403},\n",
              " {31511},\n",
              " {36742},\n",
              " {305},\n",
              " {1905},\n",
              " {1057},\n",
              " {2488},\n",
              " {1520},\n",
              " {13045},\n",
              " {656},\n",
              " {12614},\n",
              " {15483},\n",
              " {44113},\n",
              " {204},\n",
              " {1148},\n",
              " {9254},\n",
              " {955},\n",
              " {22733},\n",
              " {3195},\n",
              " {29661},\n",
              " {40},\n",
              " {1156},\n",
              " {2010},\n",
              " {1567},\n",
              " {64},\n",
              " {354},\n",
              " {53},\n",
              " {842},\n",
              " {1999},\n",
              " {596},\n",
              " {2463},\n",
              " {1522},\n",
              " {43397},\n",
              " {36023},\n",
              " {13479},\n",
              " {7401},\n",
              " {21468},\n",
              " {28911},\n",
              " {5063},\n",
              " {1835},\n",
              " {21},\n",
              " {403},\n",
              " {21024},\n",
              " {13551},\n",
              " {2215},\n",
              " {1097},\n",
              " {1118},\n",
              " {29996},\n",
              " {3909},\n",
              " {4396},\n",
              " {11779},\n",
              " {3111},\n",
              " {1502},\n",
              " {9432},\n",
              " {2098},\n",
              " {10165},\n",
              " {3143},\n",
              " {22414},\n",
              " {1582},\n",
              " {44890},\n",
              " {578},\n",
              " {2670},\n",
              " {463},\n",
              " {239},\n",
              " {532},\n",
              " {4950},\n",
              " {42296},\n",
              " {6094},\n",
              " {11693},\n",
              " {4397},\n",
              " {9595},\n",
              " {2405},\n",
              " {26014},\n",
              " {5832},\n",
              " {803},\n",
              " {745},\n",
              " {38310},\n",
              " {525},\n",
              " {174},\n",
              " {175},\n",
              " {4122},\n",
              " {3443},\n",
              " {281},\n",
              " {1249},\n",
              " {1561},\n",
              " {282},\n",
              " {14112},\n",
              " {20068},\n",
              " {40152},\n",
              " {8418},\n",
              " {25608},\n",
              " {289},\n",
              " {3426},\n",
              " {5875},\n",
              " {9004},\n",
              " {7572},\n",
              " {1054},\n",
              " {1490},\n",
              " {17504},\n",
              " {26336},\n",
              " {1237},\n",
              " {21216},\n",
              " {3345},\n",
              " {38804},\n",
              " {3800},\n",
              " {720},\n",
              " {84},\n",
              " {208},\n",
              " {4957},\n",
              " {424},\n",
              " {7228},\n",
              " {6761},\n",
              " {1565},\n",
              " {367},\n",
              " {566},\n",
              " {27953},\n",
              " {4496},\n",
              " {241},\n",
              " {3294},\n",
              " {13843},\n",
              " {11294},\n",
              " {7443},\n",
              " {30398},\n",
              " {4183},\n",
              " {29100},\n",
              " {14542},\n",
              " {11534},\n",
              " {17489},\n",
              " {528},\n",
              " {3062},\n",
              " {2946},\n",
              " {6644},\n",
              " {9780},\n",
              " {3632},\n",
              " {21506},\n",
              " {27546},\n",
              " {1826},\n",
              " {49033},\n",
              " {229},\n",
              " {230},\n",
              " {778},\n",
              " {3258},\n",
              " {24145},\n",
              " {44},\n",
              " {42070},\n",
              " {6201},\n",
              " {27177},\n",
              " {139},\n",
              " {1261},\n",
              " {1101},\n",
              " {1046},\n",
              " {29286},\n",
              " {66},\n",
              " {13383},\n",
              " {144},\n",
              " {376},\n",
              " {710},\n",
              " {1853},\n",
              " {1854},\n",
              " {1443},\n",
              " {31655},\n",
              " {4441},\n",
              " {1162},\n",
              " {43330},\n",
              " {12727},\n",
              " {7898},\n",
              " {29164},\n",
              " {18270},\n",
              " {8827},\n",
              " {522},\n",
              " {5486},\n",
              " {3264},\n",
              " {3506},\n",
              " {4153},\n",
              " {27444},\n",
              " {12937},\n",
              " {48796},\n",
              " {2400},\n",
              " {268},\n",
              " {7029},\n",
              " {1190},\n",
              " {3672},\n",
              " {2367},\n",
              " {44687},\n",
              " {1274},\n",
              " {5281},\n",
              " {31570},\n",
              " {15437},\n",
              " {34382},\n",
              " {6230},\n",
              " {1303},\n",
              " {3794},\n",
              " {1198},\n",
              " {16197},\n",
              " {34965},\n",
              " {4200},\n",
              " {34983},\n",
              " {304},\n",
              " {10045},\n",
              " {20804},\n",
              " {133},\n",
              " {19619},\n",
              " {740},\n",
              " {94},\n",
              " {328},\n",
              " {1873},\n",
              " {17542},\n",
              " {551},\n",
              " {3516},\n",
              " {28830},\n",
              " {38736},\n",
              " {474},\n",
              " {3117},\n",
              " {34815},\n",
              " {19827},\n",
              " {1595},\n",
              " {546},\n",
              " ...]"
            ]
          },
          "metadata": {
            "tags": []
          },
          "execution_count": 32
        }
      ]
    },
    {
      "cell_type": "code",
      "metadata": {
        "id": "x3esPe2ZcGY9",
        "colab": {
          "base_uri": "https://localhost:8080/"
        },
        "outputId": "732ab721-2e59-45e5-9286-85d98f0563ec"
      },
      "source": [
        "c"
      ],
      "execution_count": 33,
      "outputs": [
        {
          "output_type": "execute_result",
          "data": {
            "text/plain": [
              "[5, 17, 4, 4, 7, 2, 3]"
            ]
          },
          "metadata": {
            "tags": []
          },
          "execution_count": 33
        }
      ]
    },
    {
      "cell_type": "code",
      "metadata": {
        "id": "SxN5X5TychzV",
        "colab": {
          "base_uri": "https://localhost:8080/"
        },
        "outputId": "cce5089e-35e9-4a3d-f4df-71ce595902ab"
      },
      "source": [
        "b"
      ],
      "execution_count": 34,
      "outputs": [
        {
          "output_type": "execute_result",
          "data": {
            "text/plain": [
              "[{130, 131, 284, 647, 10091},\n",
              " {6,\n",
              "  7,\n",
              "  22,\n",
              "  37,\n",
              "  38,\n",
              "  43,\n",
              "  102,\n",
              "  195,\n",
              "  274,\n",
              "  597,\n",
              "  747,\n",
              "  1042,\n",
              "  1130,\n",
              "  7656,\n",
              "  17019,\n",
              "  27049,\n",
              "  33737},\n",
              " {119, 177, 2009, 25231},\n",
              " {75, 340, 853, 1674},\n",
              " {1, 9, 19, 72, 143, 288, 317},\n",
              " {50, 138},\n",
              " {379, 1002, 1702}]"
            ]
          },
          "metadata": {
            "tags": []
          },
          "execution_count": 34
        }
      ]
    },
    {
      "cell_type": "markdown",
      "metadata": {
        "id": "c_Fg1dGchCxm"
      },
      "source": [
        "## AutoEncoder"
      ]
    },
    {
      "cell_type": "code",
      "metadata": {
        "id": "ILFOlrUUBZsP"
      },
      "source": [
        "import torch\n",
        "from torch import nn as nn\n",
        "from torch import optim as optim\n",
        "from torch.nn.parallel import data_parallel"
      ],
      "execution_count": 35,
      "outputs": []
    },
    {
      "cell_type": "code",
      "metadata": {
        "colab": {
          "base_uri": "https://localhost:8080/"
        },
        "id": "EVzasi4zS_jS",
        "outputId": "c31cdc0d-a0f6-48c7-9f0c-2862a1a818e4"
      },
      "source": [
        "max(a2q), len(a2q), max(t2q), len(t2q)"
      ],
      "execution_count": 36,
      "outputs": [
        {
          "output_type": "execute_result",
          "data": {
            "text/plain": [
              "(10508, 10509, 55520, 6792)"
            ]
          },
          "metadata": {
            "tags": []
          },
          "execution_count": 36
        }
      ]
    },
    {
      "cell_type": "code",
      "metadata": {
        "id": "4DHaLQRuI7tS"
      },
      "source": [
        "qq = [q for q in q2t]\n",
        "tt = [t for t in t2q]\n",
        "num_of_q = len(q2t)\n",
        "num_of_a = max(a2q) + 1\n",
        "num_of_t = len(t2q) if dataset_id == 1 else max(t2q) + 1\n",
        "\n",
        "def data_loader(num_batches, batch_size, ratio=0.5, is_cuda=False):\n",
        " \n",
        "  # train_set = torch.zeros(num_of_q, num_of_a + num_of_t)\n",
        "  # for i, (k, v) in enumerate(q2t.items()):\n",
        "  #   for a in q2a[k]:\n",
        "  #     train_set[i, a] = 1\n",
        "  #   for t in v:\n",
        "  #     train_set[i, num_of_a + t] = 1\n",
        "\n",
        "  p = torch.ones(num_of_q)\n",
        "  qq = [q for q in q2t]\n",
        "  tt = [t for t in t2q]\n",
        "  for batch_num in range(num_batches):\n",
        "    index = p.multinomial(num_samples=batch_size, replacement=True)\n",
        "    train_x = torch.zeros(len(index), num_of_a)\n",
        "    train_y = torch.zeros(len(index), num_of_t)\n",
        "    for i, k in enumerate(index.numpy()):\n",
        "      for a in q2a[qq[k]]:\n",
        "        train_x[i, a] = 1\n",
        "      for t in q2t[qq[k]]:\n",
        "        train_y[i, tt.index(t)] = 1\n",
        "    inp = train_x\n",
        "    out = train_y\n",
        "    # Mask data from input\n",
        "    # inp[int(batch_size*ratio):, num_of_a:] = 0.5\n",
        "    \n",
        "    if is_cuda:\n",
        "        inp = inp.cuda()\n",
        "        out = out.cuda()\n",
        "\n",
        "    yield batch_num + 1, inp.float(), out.float()"
      ],
      "execution_count": 37,
      "outputs": []
    },
    {
      "cell_type": "code",
      "metadata": {
        "id": "l5rk4T2dCvMo"
      },
      "source": [
        "def data_loader_test(is_cuda=False):\n",
        "  num_of_q = len(v_q2t)\n",
        "  test_x = torch.zeros(num_of_q, num_of_a)\n",
        "  test_y = torch.zeros(num_of_q, num_of_t)\n",
        "  for i, (k, v) in enumerate(v_q2t.items()):\n",
        "    for a in q2a[k]:\n",
        "      test_x[i, a] = 1\n",
        "    for t in v:\n",
        "      test_y[i, tt.index(t)] = 1\n",
        "  # test_set[:, num_of_a:] = 0.5\n",
        "  if is_cuda:\n",
        "    test_x = test_x.cuda()\n",
        "    test_y = test_y.cuda()\n",
        "\n",
        "  return test_x.float(), test_y.float()\n",
        "  \n",
        "  # inp = test_set.clone()\n",
        "  # out = inp[:, num_of_a:].clone()\n",
        "  # inp[:, num_of_a:] = 0.5\n",
        "  # if is_cuda:\n",
        "    # inp = inp.cuda()\n",
        "    # out = out.cuda()\n",
        "\n",
        "  # return inp.float(), out.float()"
      ],
      "execution_count": 38,
      "outputs": []
    },
    {
      "cell_type": "code",
      "metadata": {
        "id": "tDMhJ1OuZqSv"
      },
      "source": [
        "import logging\n",
        "import torch\n",
        "import time\n",
        "import numpy as np\n",
        "import random\n",
        "import json\n",
        "import os\n",
        "\n",
        "LOGGER = logging.getLogger(__name__)\n",
        "\n",
        "def init_logging():\n",
        "    logging.basicConfig(format='[%(asctime)s] [%(levelname)s] [%(name)s]  %(message)s', level=logging.DEBUG)\n",
        "\n",
        "def get_ms():\n",
        "    \"\"\"Returns the current time in milliseconds.\"\"\"\n",
        "    return time.time() * 1000\n",
        "\n",
        "\n",
        "def init_seed(seed=None):\n",
        "    global SEED\n",
        "    \"\"\"Seed the RNGs for predictability/reproduction purposes.\"\"\"\n",
        "    if seed is None:\n",
        "        seed = int(get_ms() // 1000)\n",
        "    SEED = seed\n",
        "    LOGGER.info(\"Using seed=%d\", seed)\n",
        "    np.random.seed(seed)\n",
        "    torch.manual_seed(seed)\n",
        "    random.seed(seed)\n",
        "\n",
        "\n",
        "def progress_clean():\n",
        "    \"\"\"Clean the progress bar.\"\"\"\n",
        "    print(\"\\r{}\".format(\" \" * 80), end='\\r')\n",
        "\n",
        "\n",
        "def progress_bar(batch_num, report_interval, last_loss):\n",
        "    \"\"\"Prints the progress until the next report.\"\"\"\n",
        "    progress = (((batch_num - 1) % report_interval) + 1) / report_interval\n",
        "    fill = int(progress * 40)\n",
        "    print(\"\\r[{}{}]: {} (Loss: {:.4f})\".format(\"=\" * (fill - 1) + \">\", \" \" * (40 - fill), batch_num, last_loss), end='')\n",
        "\n",
        "\n",
        "def save_checkpoint(net, batch_num, ratio, losses, costs, checkpoint_path='/content/drive/MyDrive/DM/Project/model'):\n",
        "    progress_clean()\n",
        "    if not os.path.exists(checkpoint_path):\n",
        "        os.mkdir(checkpoint_path)\n",
        "    basename = \"{}/{}-batch-{}\".format(checkpoint_path, ratio, batch_num)\n",
        "    model_fname = basename + \".model\"\n",
        "    print(\"Saving model checkpoint to: '{}'\".format(model_fname))\n",
        "    torch.save(net.state_dict(), model_fname)\n",
        "\n",
        "    # Save the training history\n",
        "    train_fname = basename + \".json\"\n",
        "    print(\"Saving model training history to '{}'\".format(train_fname))\n",
        "    content = {\n",
        "        \"loss\": losses,\n",
        "        \"cost\": costs\n",
        "    }\n",
        "    open(train_fname, 'wt').write(json.dumps(content))\n",
        "\n",
        "\n",
        "def clip_grads(net):\n",
        "    \"\"\"Gradient clipping to the range [10, 10].\"\"\"\n",
        "    parameters = list(filter(lambda p: p.grad is not None, net.parameters()))\n",
        "    for p in parameters:\n",
        "        p.grad.data.clamp_(-10, 10)"
      ],
      "execution_count": 39,
      "outputs": []
    },
    {
      "cell_type": "code",
      "metadata": {
        "id": "Ez6D4XZiWagm"
      },
      "source": [
        "class AutoEncoder(nn.Module):\n",
        "  def __init__(self, input, output, hidden=[1024, 128]):\n",
        "      super(AutoEncoder, self).__init__()\n",
        "      self.encoder = nn.Sequential(\n",
        "          nn.Linear(input, hidden[0]),\n",
        "          nn.LeakyReLU(True),\n",
        "          nn.Linear(hidden[0], hidden[1]),\n",
        "          nn.LeakyReLU(True),\n",
        "          nn.Linear(hidden[1], output),\n",
        "          nn.Sigmoid()\n",
        "          )\n",
        "\n",
        "  def forward(self, x):\n",
        "      x = self.encoder(x)\n",
        "      return x"
      ],
      "execution_count": 40,
      "outputs": []
    },
    {
      "cell_type": "code",
      "metadata": {
        "id": "cMN1lxc44OU4"
      },
      "source": [
        "class FocalLoss(nn.Module):\n",
        "    \"Non weighted version of Focal Loss\"\n",
        "    def __init__(self, alpha=.25, gamma=2):\n",
        "        super(FocalLoss, self).__init__()\n",
        "        self.alpha = torch.tensor([alpha, 1-alpha])\n",
        "        self.gamma = gamma\n",
        "\n",
        "    def forward(self, inputs, targets):\n",
        "        BCE_loss = nn.functional.binary_cross_entropy_with_logits(inputs, targets, reduction='none')\n",
        "        targets = targets.type(torch.long)\n",
        "        at = self.alpha.gather(0, targets.data.view(-1))\n",
        "        pt = torch.exp(-BCE_loss)\n",
        "        F_loss = at*(1-pt)**self.gamma * BCE_loss\n",
        "        return F_loss.mean()"
      ],
      "execution_count": 41,
      "outputs": []
    },
    {
      "cell_type": "code",
      "metadata": {
        "id": "PYzwrCGYXqA6"
      },
      "source": [
        "def train_batch(net, criterion, optimizer, X, Y, batch_size, is_cuda=False):\n",
        "  \"\"\"Trains a single batch.\"\"\"\n",
        "  optimizer.zero_grad()\n",
        "  if is_cuda:\n",
        "    P = data_parallel(net, X)\n",
        "  else:\n",
        "    P = net(X)\n",
        "\n",
        "  if is_cuda:\n",
        "    X = X.cuda()\n",
        "    Y = Y.cuda()\n",
        "    P = P.cuda()\n",
        "\n",
        "  # l1_reg = 0.00005 * torch.norm(torch.cat([x.view(-1) for x in net.parameters()]), 1)\n",
        "  l2_reg = 0.00 * torch.norm(torch.cat([x.view(-1) for x in net.parameters()]), 2)\n",
        "\n",
        "  loss = criterion(P, Y) + l2_reg\n",
        "\n",
        "  loss.backward()\n",
        "  clip_grads(net)\n",
        "  optimizer.step()\n",
        "\n",
        "  if is_cuda:\n",
        "      y_out_binarized = P.cpu().data\n",
        "  else:\n",
        "      y_out_binarized = P.clone().data\n",
        "  y_out_binarized.apply_(lambda x: 0 if x < 0.5 else 1)\n",
        "\n",
        "  # The cost is the number of error bits per sequence\n",
        "  cost = torch.sum(torch.abs(y_out_binarized - Y.cpu().data))\n",
        "\n",
        "  return loss.item(), cost.item() / batch_size"
      ],
      "execution_count": 42,
      "outputs": []
    },
    {
      "cell_type": "code",
      "metadata": {
        "colab": {
          "base_uri": "https://localhost:8080/"
        },
        "id": "IOk0C6u4VSN3",
        "outputId": "c51929b5-f78e-4172-f0e7-c9c18f65bb2f"
      },
      "source": [
        "is_cuda = False\n",
        "\n",
        "SEED = 1\n",
        "init_seed(SEED)\n",
        "init_logging()\n",
        "report_interval = 300\n",
        "checkpoint_interval = 300\n",
        "\n",
        "input_size = num_of_a + num_of_t\n",
        "net = AutoEncoder(num_of_a, num_of_t, [1024, 128])\n",
        "\n",
        "criterion = FocalLoss() # MSELoss()\n",
        "\n",
        "optimizer =  optim.RMSprop(net.parameters(), momentum=0.9, alpha=0.95, lr=1e-5)\n",
        "batch_size = 1\n",
        "batch_num = 1200\n",
        "if is_cuda:\n",
        "  net = net.cuda()\n",
        "\n",
        "losses = []\n",
        "costs = []\n",
        "repeats = []\n",
        "start_ms = get_ms()\n",
        "for r in range(1):\n",
        "  print(r)\n",
        "  for bn, x, y in data_loader(batch_num, batch_size, 0.0, is_cuda):\n",
        "    if is_cuda:\n",
        "      x = x.cuda()\n",
        "      y = y.cuda()\n",
        "\n",
        "    loss, cost = train_batch(net, criterion, optimizer, x, y, batch_size, is_cuda)\n",
        "    losses += [loss]\n",
        "    costs += [cost]\n",
        "    # Update the progress bar\n",
        "    progress_bar(bn, report_interval, loss)\n",
        "    # print(' (Cost: {})'.format(cost))\n",
        "    # print(bn)\n",
        "    # Report\n",
        "    if bn % report_interval == 0:\n",
        "        mean_loss = np.array(losses[-report_interval:]).mean()\n",
        "        mean_cost = np.array(costs[-report_interval:]).mean()\n",
        "        mean_time = int(((get_ms() - start_ms) / report_interval) / batch_size)\n",
        "        progress_clean()\n",
        "        LOGGER.info(\n",
        "            \"Batch {} Loss: {} Cost: {} Time: {} ms/sequence\".format(bn, mean_loss, mean_cost, mean_time))\n",
        "        start_ms = get_ms()\n",
        "\n",
        "    # # Checkpoint\n",
        "    if (checkpoint_interval != 0) and (bn % checkpoint_interval == 0):\n",
        "      save_checkpoint(net, bn, r, losses, costs)\n"
      ],
      "execution_count": 44,
      "outputs": [
        {
          "output_type": "stream",
          "text": [
            "[2021-07-13 23:21:49,990] [INFO] [__main__]  Using seed=1\n"
          ],
          "name": "stderr"
        },
        {
          "output_type": "stream",
          "text": [
            "0\n",
            "[======================================> ]: 299 (Loss: 0.0445)"
          ],
          "name": "stdout"
        },
        {
          "output_type": "stream",
          "text": [
            "[2021-07-13 23:22:42,342] [INFO] [__main__]  Batch 300 Loss: 0.06814730857809384 Cost: 512.7166666666667 Time: 174 ms/sequence\n"
          ],
          "name": "stderr"
        },
        {
          "output_type": "stream",
          "text": [
            "\r[=======================================>]: 300 (Loss: 0.0444)\r                                                                                \r\r                                                                                \rSaving model checkpoint to: '/content/drive/MyDrive/DM/Project/model/0-batch-300.model'\n",
            "Saving model training history to '/content/drive/MyDrive/DM/Project/model/0-batch-300.json'\n",
            "[======================================> ]: 599 (Loss: 0.0434)"
          ],
          "name": "stdout"
        },
        {
          "output_type": "stream",
          "text": [
            "[2021-07-13 23:23:35,444] [INFO] [__main__]  Batch 600 Loss: 0.04350201415518919 Cost: 2.783333333333333 Time: 177 ms/sequence\n"
          ],
          "name": "stderr"
        },
        {
          "output_type": "stream",
          "text": [
            "\r[=======================================>]: 600 (Loss: 0.0433)\r                                                                                \r\r                                                                                \rSaving model checkpoint to: '/content/drive/MyDrive/DM/Project/model/0-batch-600.model'\n",
            "Saving model training history to '/content/drive/MyDrive/DM/Project/model/0-batch-600.json'\n",
            "[======================================> ]: 898 (Loss: 0.0433)"
          ],
          "name": "stdout"
        },
        {
          "output_type": "stream",
          "text": [
            "[2021-07-13 23:24:29,330] [INFO] [__main__]  Batch 900 Loss: 0.04335656461616357 Cost: 2.71 Time: 179 ms/sequence\n"
          ],
          "name": "stderr"
        },
        {
          "output_type": "stream",
          "text": [
            "Saving model checkpoint to: '/content/drive/MyDrive/DM/Project/model/0-batch-900.model'\n",
            "Saving model training history to '/content/drive/MyDrive/DM/Project/model/0-batch-900.json'\n",
            "[======================================> ]: 1199 (Loss: 0.0433)"
          ],
          "name": "stdout"
        },
        {
          "output_type": "stream",
          "text": [
            "[2021-07-13 23:25:27,537] [INFO] [__main__]  Batch 1200 Loss: 0.043358496266106765 Cost: 2.8833333333333333 Time: 194 ms/sequence\n"
          ],
          "name": "stderr"
        },
        {
          "output_type": "stream",
          "text": [
            "\r[=======================================>]: 1200 (Loss: 0.0434)\r                                                                                \r\r                                                                                \rSaving model checkpoint to: '/content/drive/MyDrive/DM/Project/model/0-batch-1200.model'\n",
            "Saving model training history to '/content/drive/MyDrive/DM/Project/model/0-batch-1200.json'\n"
          ],
          "name": "stdout"
        }
      ]
    },
    {
      "cell_type": "code",
      "metadata": {
        "id": "WX2lw_SGnvRu"
      },
      "source": [
        "## Evaluate\n",
        "x, y = data_loader_test(is_cuda)\n",
        "p = net(x)\n",
        "if is_cuda:\n",
        "  p = p.cpu().detach().numpy() * -1\n",
        "else:\n",
        "  p = p.detach().numpy() * -1  "
      ],
      "execution_count": 45,
      "outputs": []
    },
    {
      "cell_type": "code",
      "metadata": {
        "colab": {
          "base_uri": "https://localhost:8080/"
        },
        "id": "Vpr7sPT0Rv7y",
        "outputId": "8ea25b1b-5810-4275-9645-3e491cd68b1d"
      },
      "source": [
        "(195, 75, 1, 43, 119, 1674)\n",
        "np.argmin(p[0])\n",
        "max(tt), len(tt), min(tt), tt.index(195), tt.index(75), tt.index(1)"
      ],
      "execution_count": 46,
      "outputs": [
        {
          "output_type": "execute_result",
          "data": {
            "text/plain": [
              "(55520, 6792, 1, 5, 16, 35)"
            ]
          },
          "metadata": {
            "tags": []
          },
          "execution_count": 46
        }
      ]
    },
    {
      "cell_type": "code",
      "metadata": {
        "id": "HwdNzovVKI-k"
      },
      "source": [
        "tags = {}\n",
        "scores = {}\n",
        "h = {}\n",
        "asp = np.argsort(p)"
      ],
      "execution_count": 47,
      "outputs": []
    },
    {
      "cell_type": "code",
      "metadata": {
        "id": "XN1-jLUsPMiG"
      },
      "source": [
        "for i, k in enumerate(v_q2t):\n",
        "  tags[k] = [tt[assp] for assp in asp[i, :29] if assp in tt]\n",
        "  if k not in scores:\n",
        "    scores[k] = {}\n",
        "  for t in tags[k]:\n",
        "    scores[k][t] = p[i][tt.index(t)]\n",
        "  h[k] = [p[i][tt.index(t)] for t in tags[k]]"
      ],
      "execution_count": 48,
      "outputs": []
    },
    {
      "cell_type": "code",
      "metadata": {
        "colab": {
          "base_uri": "https://localhost:8080/",
          "height": 342
        },
        "id": "DXXQsUS8QJk8",
        "outputId": "74981495-5c15-4ea4-f2ba-53e3e49617fb"
      },
      "source": [
        "print(tags[v_q[0]])\n",
        "scores[v_q[0]]\n",
        "histogram(h[v_q[100]])\n",
        "# vv = [v[1] for s, v in scores.items()]\n",
        "# histogram(vv)\n",
        "np.min(p), np.max(p)\n"
      ],
      "execution_count": 49,
      "outputs": [
        {
          "output_type": "stream",
          "text": [
            "[195, 1, 43, 6, 1674, 31498, 47517, 654, 597, 1224, 12365, 867, 9949, 75, 6827, 27414, 2154, 27346]\n",
            "-2.35117e-06 -4.948156e-07 -8.301218e-07 4.8496264e-07 18\n"
          ],
          "name": "stdout"
        },
        {
          "output_type": "display_data",
          "data": {
            "image/png": "[encoded data removed]",
            "text/plain": [
              "<Figure size 432x288 with 1 Axes>"
            ]
          },
          "metadata": {
            "tags": [],
            "needs_background": "light"
          }
        },
        {
          "output_type": "execute_result",
          "data": {
            "text/plain": [
              "(-2.5465565e-06, -4.7539683e-10)"
            ]
          },
          "metadata": {
            "tags": []
          },
          "execution_count": 49
        }
      ]
    },
    {
      "cell_type": "code",
      "metadata": {
        "id": "w_ew_bQtOaFt"
      },
      "source": [
        "def choose_tag8(questions, t, s, c, f, cnt):\n",
        "  q2t = {}\n",
        "  for q in tqdm(questions):\n",
        "    q2t[q] = [tuple([t2]) for t2 in t[q] if f[q][t2] < -0.52 + (cnt / 300)]\n",
        "  return q2t"
      ],
      "execution_count": 50,
      "outputs": []
    },
    {
      "cell_type": "code",
      "metadata": {
        "id": "VR1-gGHRWMOH"
      },
      "source": [
        "def choose_tag7(questions, t, s, c, f, cnt):\n",
        "  q2t = {}\n",
        "  for q in tqdm(questions):\n",
        "    q2t[q] = [tuple([t2]) for t2 in t[q][:cnt]]\n",
        "  return q2t"
      ],
      "execution_count": 51,
      "outputs": []
    },
    {
      "cell_type": "markdown",
      "metadata": {
        "id": "us0CHhKJZvQB"
      },
      "source": [
        "## 3. Validation Functions"
      ]
    },
    {
      "cell_type": "code",
      "metadata": {
        "id": "l11tVgZF90ei"
      },
      "source": [
        "def write_prediction(questions, q2t, dataset_id, fill_blank=True):\n",
        "    prediction = open(os.path.join(BASE_DIR, DATASETS[dataset_id], PREDICT_VALID.format(DATASETS[dataset_id])), 'w')\n",
        "    qtions = open(os.path.join(BASE_DIR, DATASETS[dataset_id], Q_VALID.format(DATASETS[dataset_id])), \"r\")\n",
        "    non = []\n",
        "    for q in questions:\n",
        "      if fill_blank:\n",
        "        if len(q2t[q]) == 0:\n",
        "          non.append(q)\n",
        "          if dataset_id == 0:\n",
        "            q2t[q].append((1, 15, 135, 5, 2, 6))\n",
        "          if dataset_id == 1:\n",
        "            q2t[q].append((195, 75, 1, 43, 119, 1674))\n",
        "      elif len(q2t[q]) == 0:\n",
        "        q2t[q].append((-1,))\n",
        "      tags = []\n",
        "      [[tags.append(str(s)) for s in s] for s in q2t[q]]\n",
        "      tags = list(set(tags))\n",
        "#         prediction.write('195 75 1 43 119 1674'# 597 6 32 7 22 597 37 130 33 102 9 72\\n') \n",
        "#                          + '\\n')\n",
        "      prediction.write(' '.join(tags) + '\\n')\n",
        "# (195,),(75,),(1,),(43,),(119,),(1674,),(597,),(6,),(32,),(7,),(22,),(195, 597),(37,),(130,),(6, 7),(33,),(6, 195),(102,),(9,),(72,)]\n",
        "\n",
        "    prediction.close()"
      ],
      "execution_count": 52,
      "outputs": []
    },
    {
      "cell_type": "code",
      "metadata": {
        "id": "kdDbyky_90ei"
      },
      "source": [
        "from sklearn import metrics\n",
        "\n",
        "def validate(truth, prediction, offset=-1):\n",
        "    truth = open(truth, \"r\")\n",
        "    pred = open(prediction, \"r\")\n",
        "    \n",
        "    f1 = []\n",
        "    pr = []\n",
        "    re = []\n",
        "    tp = []\n",
        "    fp = []\n",
        "    fn = []\n",
        "    for t, p in zip(truth.readlines()[:offset], pred.readlines()[:offset]):\n",
        "        t = set([int(t) for t in t.replace('\\n', '').split(' ')])\n",
        "        p = set([int(p) for p in p.replace('\\n', '').split(' ')])\n",
        "        t_p = sum([1 for v in p if v in t])\n",
        "        f_p = sum([1 for v in p if v not in t])\n",
        "        f_n = sum([1 for v in t if v not in p])\n",
        "        precision = len(p.intersection(t)) / len(p) + 1e-6\n",
        "        recall = len(p.intersection(t)) / len(t) + 1e-6\n",
        "        pr.append(precision)\n",
        "        re.append(recall)\n",
        "        f1.append(2 * precision * recall / (precision + recall))\n",
        "        tp.append(t_p)\n",
        "        fp.append(f_p)\n",
        "        fn.append(f_n)\n",
        "    f_avg = sum(f1) / len(f1)\n",
        "    precision = sum(pr) / len(pr)\n",
        "    recall = sum(re) / len(re)\n",
        "    return f_avg, precision, recall, tp, fp, fn "
      ],
      "execution_count": 53,
      "outputs": []
    },
    {
      "cell_type": "code",
      "metadata": {
        "id": "Z4pu2D--90ej"
      },
      "source": [
        "def get_candidates(qs, ac):\n",
        "    ct = {}\n",
        "    for q in qs:\n",
        "        ct[q] = {}\n",
        "        answerers = q2a[q]\n",
        "        for a in answerers:\n",
        "            tc = ac[a]\n",
        "            for t, c in tc.items():\n",
        "                if t not in ct:\n",
        "                    ct[q][t] = 0.0\n",
        "                ct[q][t] += c\n",
        "    return ct"
      ],
      "execution_count": 54,
      "outputs": []
    },
    {
      "cell_type": "code",
      "metadata": {
        "id": "O140hL566RFT"
      },
      "source": [
        "def choose_tag0(questions, t, s, c, f, cnt):\n",
        "  q2t = {}\n",
        "  for q in tqdm(questions):\n",
        "    top = []\n",
        "    for i in range(cnt):\n",
        "      select = np.random.rand() * vs_total\n",
        "      for i, v in enumerate(vs_cs):\n",
        "        if v >= select:\n",
        "          top.append(ks[i])\n",
        "          break\n",
        "    q2t[q] = top\n",
        "  return q2t"
      ],
      "execution_count": 55,
      "outputs": []
    },
    {
      "cell_type": "code",
      "metadata": {
        "id": "5F_wXokn3W82"
      },
      "source": [
        "def choose_tag11(questions, t, s, c, f, cnt):\n",
        "    q2t = {}\n",
        "    for q in tqdm(questions):\n",
        "      if dataset_id == 0:\n",
        "        t = [1, 15, 135, 5, 2, 6, 62, 218, 72, 4, 9, 111, 36, 20, 10, 163, 77, 204, 160, 168, 3, 26, 40, 82, 121, 7, 283, 19, 249, 102, 122, 207, 173, 86, 75, 8, 68, 60, 117, 132, 193, 115, 73, 195, 292, 131, 496, 798, 186, 530, 31, 511, 295, 142, 247, 200, 113, 110, 345, 103, 157, 273, 35, 352, 61, 366, 556, 491, 257, 97, 382, 261, 43, 381, 210, 387, 315, 91, 48, 23, 560, 389, 11, 211, 568, 138, 123, 170, 314, 18, 294, 90, 253, 67, 185, 267, 335, 151, 112, 373]\n",
        "      else:\n",
        "        t = [195, 75, 1, 43, 119, 1674, 597, 6, 32, 7, 22, 37, 130, 33, 102, 9, 72, 138, 38, 131, 1042, 3378, 247, 284, 7656, 17019, 379, 274, 50, 10091, 120, 177, 60, 73, 288, 317, 23, 1002, 2009, 33345, 33737, 68, 853, 41, 388, 1130, 228, 647, 27049, 2621, 645, 27, 200, 323, 25231, 114, 19, 52, 26, 47, 1160, 2609, 183, 145, 12572, 143, 922, 747, 162]\n",
        "\n",
        "        top = [tuple([t]) for t in t[:cnt]]\n",
        "        q2t[q] = top\n",
        "    return q2t"
      ],
      "execution_count": 56,
      "outputs": []
    },
    {
      "cell_type": "code",
      "metadata": {
        "id": "2tB9kUiL3cbW"
      },
      "source": [
        "def choose_tag1(questions, t, s, c, f, cnt):\n",
        "    q2t = {}\n",
        "    for q in tqdm(questions):\n",
        "        t = top_tags[:50]\n",
        "#[195, 75, 1, 43, 119, 1674, 597, 6, 32, 7, 22, 37, 130, 33, 3378, 72, 138, 102, 38, 9, 247, 17019, 131, 1042, 50, 7656, 379, 284, 10091, 177, 33345, 274, 317, 120, 288, 2009, 60, 73, 1002, 33737, 41, 200, 23, 2621, 388, 1160, 1130, 2609, 438, 68, 27049, 27, 853, 114, 25231, 183, 228, 647, 19, 52, 645, 323, 614, 382, 143, 2686, 12572, 162, 105, 26, 47, 145, 922, 747, 3209, 31147, 292, 360, 17570, 862, 1702, 1108, 1470, 282, 140, 548, 83, 78, 384, 6922, 340, 295, 211, 10, 5295, 116, 76, 1743, 85, 327, 152, 112, 2078, 1679, 8013, 113, 657, 1855, 41258, 182, 2597, 1756, 456, 20601, 951, 24504, 3514, 4625, 248, 267, 22526, 276, 407, 22733, 664, 809, 122, 3379, 772, 11727, 1623, 546, 34451, 34, 29, 18, 683, 57, 2228, 387, 139, 447, 435, 201, 1085, 115, 1317, 20, 2150, 281, 11352, 1096, 124, 2602, 10247, 4307, 662, 505, 353, 3244, 20213, 204, 28077, 399, 7148, 1157, 333, 196, 11294, 701, 331, 19506, 135, 37171, 214]\n",
        "        \n",
        "        top = [tuple([t]) for t in t[:cnt]]\n",
        "        q2t[q] = top\n",
        "    return q2t"
      ],
      "execution_count": 57,
      "outputs": []
    },
    {
      "cell_type": "code",
      "metadata": {
        "id": "sJZaySFK7P9d"
      },
      "source": [
        "def choose_tag23(questions, t, s, c, f, cnt):\n",
        "    q2t = {}\n",
        "    for q in tqdm(questions):\n",
        "        q2t[q] = []\n",
        "        tags = t[q]\n",
        "        confs = c[q]\n",
        "        scores = s[q]\n",
        "        finals = f[q]\n",
        "        # top_s = [tags[i] for i in np.argsort(scores)[:3]]\n",
        "#         top_c = [tags[i] for i in np.argsort(confs)[:3]]\n",
        "#         top_f = [tags[i] for i in np.argsort(finals)[:3]]\n",
        "        top = [tags[i] for i in np.argsort(confs)[:cnt]]\n",
        "        # top = [tags[i] for i in np.argsort(scores)[:cnt]]\n",
        "#         top = [tags[i] for i in np.argsort(confs)[:cnt]]\n",
        "#         print(top_s, top_c, top_f)\n",
        "        q2t[q] = top\n",
        "    return q2t"
      ],
      "execution_count": 58,
      "outputs": []
    },
    {
      "cell_type": "code",
      "metadata": {
        "id": "-8ndRJw790ej"
      },
      "source": [
        "def choose_tag2(questions, t, s, c, f, cnt):\n",
        "    q2t = {}\n",
        "    for q in tqdm(questions):\n",
        "        q2t[q] = []\n",
        "        tags = t[q]\n",
        "        confs = c[q]\n",
        "        scores = s[q]\n",
        "        finals = f[q]\n",
        "        # top_s = [tags[i] for i in np.argsort(scores)[:3]]\n",
        "#         top_c = [tags[i] for i in np.argsort(confs)[:3]]\n",
        "#         top_f = [tags[i] for i in np.argsort(finals)[:3]]\n",
        "        top = [tags[i] for i in np.argsort(finals)[:cnt]]\n",
        "        # top = [tags[i] for i in np.argsort(scores)[:cnt]]\n",
        "#         top = [tags[i] for i in np.argsort(confs)[:cnt]]\n",
        "#         print(top_s, top_c, top_f)\n",
        "        q2t[q] = top\n",
        "    return q2t"
      ],
      "execution_count": 59,
      "outputs": []
    },
    {
      "cell_type": "code",
      "metadata": {
        "id": "jx-tPXY94GTv"
      },
      "source": [
        "def choose_tag22(questions, t, s, c, f, cnt):\n",
        "    q2t = {}\n",
        "    for q in tqdm(questions):\n",
        "        q2t[q] = []\n",
        "        index = [i for i, t in enumerate(t[q]) if len(t) == cnt]\n",
        "        tags = [t[q][i] for i in index]\n",
        "        confs = [c[q][i] for i in index]\n",
        "        scores = [s[q][i] for i in index]\n",
        "        finals = [f[q][i] for i in index]\n",
        "        # top_s = [tags[i] for i in np.argsort(scores)[:3]]\n",
        "#         top_c = [tags[i] for i in np.argsort(confs)[:3]]\n",
        "#         top_f = [tags[i] for i in np.argsort(finals)[:3]]\n",
        "        top = [tags[i] for i in np.argsort(finals)[:cnt]]\n",
        "        # top = [tags[i] for i in np.argsort(scores)[:cnt]]\n",
        "#         top = [tags[i] for i in np.argsort(confs)[:cnt]]\n",
        "#         print(top_s, top_c, top_f)\n",
        "        q2t[q] = top\n",
        "    return q2t"
      ],
      "execution_count": 60,
      "outputs": []
    },
    {
      "cell_type": "code",
      "metadata": {
        "id": "W2poUSm9vnte"
      },
      "source": [
        "def choose_tag3(questions, t, s, c, f, th=0.1):\n",
        "    q2t = {} \n",
        "    th = 1 / th\n",
        "    for q in tqdm(questions):\n",
        "        q2t[q] = []\n",
        "        tags = t[q]\n",
        "        confs = c[q]\n",
        "        scores = s[q]\n",
        "        finals = f[q]\n",
        "#         top_s = [tags[i] for i in np.argsort(scores)[:3]]\n",
        "#         top_c = [tags[i] for i in np.argsort(confs)[:3]]\n",
        "#         top_f = [tags[i] for i in np.argsort(finals)[:3]]\n",
        "        top = [tags[i] for i, f in enumerate(finals) if -f >= th]\n",
        "#         top = [tags[i] for i in np.argsort(scores)[:cnt]]\n",
        "#         top = [tags[i] for i in np.argsort(confs)[:cnt]]\n",
        "#         print(top_s, top_c, top_f)\n",
        "        q2t[q] = top\n",
        "    return q2t"
      ],
      "execution_count": 61,
      "outputs": []
    },
    {
      "cell_type": "markdown",
      "metadata": {
        "id": "jCqmb2XRoyfZ"
      },
      "source": [
        "## RUN"
      ]
    },
    {
      "cell_type": "code",
      "metadata": {
        "id": "Kw7bttzOTGnW"
      },
      "source": [
        "def run(iter, get_tag_func, offset, v_q, t, s, c, f, fill_blank=True):\n",
        "  lp = []\n",
        "  lr = []\n",
        "  lf = []\n",
        "  tp = []\n",
        "  fp = []\n",
        "  fn = []\n",
        "  for i in iter:\n",
        "    p_q2t = get_tag_func(v_q[:offset], t, s, c, f, i)\n",
        "    write_prediction(v_q[:offset], p_q2t, dataset_id, fill_blank=fill_blank)\n",
        "    valid_path = os.path.join(BASE_DIR, DATASETS[dataset_id], TAG_VALID.format(DATASETS[dataset_id]))\n",
        "    predict_path = os.path.join(BASE_DIR, DATASETS[dataset_id], PREDICT_VALID.format(DATASETS[dataset_id]))\n",
        "    f_avg, pr, re, _tp, _fp, _fn = validate(valid_path, predict_path, offset)\n",
        "    lf.append(f_avg)\n",
        "    lr.append(re)\n",
        "    lp.append(pr)\n",
        "    tp.append(_tp)\n",
        "    fp.append(_fp)\n",
        "    fn.append(_fn)\n",
        "  return lf, lp, lr, tp, fp, fn"
      ],
      "execution_count": 62,
      "outputs": []
    },
    {
      "cell_type": "code",
      "metadata": {
        "id": "cB4jzPmP90ek"
      },
      "source": [
        "def plot_reward(rewards, window, x_label='episodes', y_label='reward'):\n",
        "    \"\"\"\n",
        "    Function to plot rewards with a rolling mean and standard deviation.\n",
        "    \"\"\"\n",
        "    steps = window\n",
        "\n",
        "    df = pd.DataFrame({'rewards': rewards})\n",
        "    m = df.rolling(steps, center=True).agg({'mean':'mean', 'std':'std'})\n",
        "    m.columns = m.columns.droplevel(1)\n",
        "    ax = m['mean'].plot()\n",
        "    ax.fill_between(m.index, m['mean'] - m['std'], m['mean'] + m['std'],\n",
        "                    alpha=.25)\n",
        "    plt.tight_layout()\n",
        "    plt.ylabel(y_label)\n",
        "    plt.xlabel(x_label)\n",
        "    plt.show()\n",
        "\n",
        "def show_me(lf, lp, lr, tp, fp, fn, key=None):\n",
        "  if key:\n",
        "    best = np.argmax(lf[key])\n",
        "    print(np.argmax(lf[key]), max(lf[key]))\n",
        "    plt.plot(lf[key])\n",
        "    plt.title(key)\n",
        "    plt.xlabel('Tag Count')\n",
        "    plt.ylabel('F1-Score')\n",
        "    plt.show()\n",
        "    print(np.argmax(lp[key]), max(lp[key]))\n",
        "    print(np.argmax(lr[key]), max(lr[key]))\n",
        "    plt.plot(lp[key], label='percision')\n",
        "    plt.plot(lr[key], label='recall')\n",
        "    plt.title(key)\n",
        "    plt.xlabel('Tag Count')\n",
        "    plt.ylabel('Percent')\n",
        "    plt.legend()\n",
        "    plt.show()\n",
        "\n",
        "    plt.plot(lr[key], lp[key])\n",
        "    plt.title(key)\n",
        "    plt.xlabel('Recall')\n",
        "    plt.ylabel('Precision')\n",
        "    plt.show()\n",
        "\n",
        "    # t2 = np.cumsum(tp[key][best])\n",
        "    # f2 = np.cumsum(fp[key][best])\n",
        "    # plt.plot(f2, t2)\n",
        "    # plt.plot([f2[0], f2[-1]], [t2[0], t2[-1]])\n",
        "    # plt.show()\n",
        "\n",
        "  else:\n",
        "    best = {}\n",
        "\n",
        "    plt.figure(figsize=(15,15))\n",
        "    for k, v in lf.items():\n",
        "      best[k] = np.argmax(lf[k])\n",
        "      plt.plot(lf[k], label=k)\n",
        "    plt.title('All')\n",
        "    plt.xlabel('Tag Count')\n",
        "    plt.ylabel('F1-Score')\n",
        "    plt.legend()\n",
        "    plt.show()\n",
        "\n",
        "    plt.figure(figsize=(15,15))\n",
        "    for k, p in lp.items():\n",
        "      plt.plot(p, label=k)\n",
        "    plt.title('Precision')\n",
        "    plt.xlabel('Tag Count')\n",
        "    plt.ylabel('Percent')\n",
        "    plt.legend()\n",
        "    plt.show()\n",
        "\n",
        "    plt.figure(figsize=(15,15))\n",
        "    for k, r in lr.items():\n",
        "      plt.plot(r, label=k)\n",
        "    plt.title('Recall')\n",
        "    plt.xlabel('Tag Count')\n",
        "    plt.ylabel('Percent')\n",
        "    plt.legend()\n",
        "    plt.show()\n",
        "    \n",
        "    plt.figure(figsize=(15,15))\n",
        "    for p, r in zip(lp.items(), lr.items()):\n",
        "      plt.plot(r[1], p[1], label=p[0])\n",
        "    plt.title('All')\n",
        "    plt.xlabel('Recall')\n",
        "    plt.ylabel('Precision')\n",
        "    plt.legend()\n",
        "    plt.show()\n",
        "    \n",
        "    for t, f in zip(tp.items(), fp.items()):\n",
        "      k = t[0]\n",
        "      t2 = t[1][best[k]]\n",
        "      f2 = f[1][best[k]]\n",
        "      t2 = np.cumsum(t2)\n",
        "      f2 = np.cumsum(f2)\n",
        "      plt.plot(f2, t2, label=k)\n",
        "      plt.plot([f2[0], f2[-1]], [t2[0], t2[-1]], label=k+'_base')\n",
        "    plt.title('All')\n",
        "    plt.xlabel('False-Positive')\n",
        "    plt.ylabel('True-Positive')\n",
        "    plt.legend()\n",
        "    plt.figure(figsize=(10,10))\n",
        "    plt.show()\n"
      ],
      "execution_count": 63,
      "outputs": []
    },
    {
      "cell_type": "code",
      "metadata": {
        "id": "dGEsWnQt90ek",
        "colab": {
          "base_uri": "https://localhost:8080/"
        },
        "outputId": "c5a6dea3-521b-4246-e7cc-29f7e02af5c0"
      },
      "source": [
        "dataset_id = 1\n",
        "offset = 11000\n",
        "q2a, a2q = get_answer_info(dataset_id)\n",
        "_q2a, a2t, q2t, t2q, t2a = get_train_tag(dataset_id, q2a, a2q)\n",
        "v_q, v_a2t, v_q2t, v_t2q, v_t2a = get_valid_tag(dataset_id, q2a, a2q)\n",
        "t_q = get_test_query(dataset_id)\n",
        "t2s = get_pop_score(t2q, a2q, q2a, q2t, 30)\n",
        "s = np.argsort([-s for s in t2s.values()])\n",
        "h = [t for t in t2s.keys()]\n",
        "top_tags = [h[s] for s in s[:100]]"
      ],
      "execution_count": 64,
      "outputs": [
        {
          "output_type": "stream",
          "text": [
            "100%|██████████| 30/30 [00:14<00:00,  2.11it/s]\n"
          ],
          "name": "stderr"
        }
      ]
    },
    {
      "cell_type": "code",
      "metadata": {
        "id": "HcU8g7w51Xzd"
      },
      "source": [
        "def get_lift(ac, st):\n",
        "  lift = {}\n",
        "  for k, v in ac.items():\n",
        "    lift[k] = {}\n",
        "    for k2, v2 in v.items():\n",
        "      if k2 in st:\n",
        "        lift[k][k2] = v2 / st[k2]\n",
        "  return lift"
      ],
      "execution_count": 65,
      "outputs": []
    },
    {
      "cell_type": "code",
      "metadata": {
        "id": "ciwxxubt90ek"
      },
      "source": [
        "ac = get_answerer_conf(a2q, q2t, 6)\n",
        "st = get_support_set(q2t, 6)\n",
        "lift = get_lift(ac, st)\n",
        "vs = [v for k, v in st.items() if len(k) == 1]\n",
        "ks = [k for k, v in st.items() if len(k) == 1]\n",
        "vs_total = sum(vs)\n",
        "vs_cs = np.cumsum(vs)\n"
      ],
      "execution_count": 66,
      "outputs": []
    },
    {
      "cell_type": "markdown",
      "metadata": {
        "id": "bRLILQjeb08X"
      },
      "source": [
        "Associative"
      ]
    },
    {
      "cell_type": "code",
      "metadata": {
        "id": "LEjk80mmbpsZ",
        "colab": {
          "base_uri": "https://localhost:8080/"
        },
        "outputId": "e96527dc-0771-4b78-db93-854ec8c73e55"
      },
      "source": [
        "q2candidate = get_candidates(v_q[:offset], ac)\n",
        "t, s, c, f = predict(v_q[:offset], q2candidate, a2q, a2t, q2t, st)"
      ],
      "execution_count": 67,
      "outputs": [
        {
          "output_type": "stream",
          "text": [
            "100%|██████████| 11000/11000 [00:15<00:00, 701.54it/s]\n"
          ],
          "name": "stderr"
        }
      ]
    },
    {
      "cell_type": "markdown",
      "metadata": {
        "id": "SV27l9v2bw5c"
      },
      "source": [
        "Similarity"
      ]
    },
    {
      "cell_type": "code",
      "metadata": {
        "id": "4yuhEhVbbp6_",
        "colab": {
          "base_uri": "https://localhost:8080/"
        },
        "outputId": "6aa9bede-7fbd-460e-fa10-4f2e1a65fe88"
      },
      "source": [
        "ct = find_candidate(v_q[:offset])\n",
        "t2, s2, c2, f2 = find_predict(v_q[:offset], ct, st)"
      ],
      "execution_count": 68,
      "outputs": [
        {
          "output_type": "stream",
          "text": [
            "100%|██████████| 11000/11000 [00:03<00:00, 3618.39it/s]\n"
          ],
          "name": "stderr"
        }
      ]
    },
    {
      "cell_type": "markdown",
      "metadata": {
        "id": "eF68S3z3Mgji"
      },
      "source": [
        "Graph Based"
      ]
    },
    {
      "cell_type": "code",
      "metadata": {
        "id": "HY3BARkuMfGi",
        "colab": {
          "base_uri": "https://localhost:8080/"
        },
        "outputId": "356f1114-a42c-4424-9b71-010dcc657c29"
      },
      "source": [
        "ats = get_answerer_tag_score(a2q, q2t, t2s, 6, False, True)\n",
        "t3, f3 = predict2(v_q[:offset], ats, a2q, a2t, q2t, st)"
      ],
      "execution_count": 69,
      "outputs": [
        {
          "output_type": "stream",
          "text": [
            "100%|██████████| 11000/11000 [00:00<00:00, 12029.18it/s]\n"
          ],
          "name": "stderr"
        }
      ]
    },
    {
      "cell_type": "code",
      "metadata": {
        "id": "Y0ZdUhILQsZQ",
        "colab": {
          "base_uri": "https://localhost:8080/"
        },
        "outputId": "71323ccd-f33c-41e9-8d43-f315b615d9af"
      },
      "source": [
        "k = [k[0] for k in st if len(k) == 1]\n",
        "v = [-v for k, v in st.items() if len(k) == 1]\n",
        "h = np.argsort(v)\n",
        "k2 = [k[a] for a in h[:100]]\n",
        "print(k2)\n",
        "print(top_tags)"
      ],
      "execution_count": 70,
      "outputs": [
        {
          "output_type": "stream",
          "text": [
            "[195, 75, 1, 43, 119, 1674, 597, 6, 32, 7, 22, 37, 130, 33, 102, 72, 9, 138, 38, 131, 1042, 3378, 247, 284, 7656, 17019, 379, 274, 50, 10091, 120, 177, 60, 73, 288, 317, 23, 1002, 2009, 33345, 33737, 68, 853, 41, 388, 1130, 228, 647, 27049, 2621, 645, 27, 200, 323, 25231, 114, 19, 52, 26, 47, 1160, 2609, 183, 145, 12572, 143, 922, 747, 162, 1702, 438, 105, 292, 83, 3209, 211, 862, 340, 614, 116, 31147, 140, 10, 2686, 384, 85, 1470, 112, 78, 152, 1108, 382, 76, 1679, 6922, 1743, 657, 20601, 295, 4625]\n",
            "[195, 75, 1, 43, 119, 1674, 597, 6, 32, 7, 22, 37, 130, 33, 3378, 72, 138, 102, 38, 9, 247, 17019, 131, 1042, 50, 7656, 379, 284, 10091, 177, 33345, 274, 317, 120, 288, 2009, 60, 73, 1002, 33737, 41, 200, 23, 2621, 388, 1160, 1130, 2609, 438, 68, 27049, 27, 853, 114, 25231, 183, 228, 647, 19, 52, 645, 323, 614, 382, 143, 2686, 12572, 162, 105, 26, 47, 145, 922, 747, 3209, 31147, 292, 360, 17570, 862, 1702, 1108, 1470, 282, 140, 548, 83, 78, 384, 6922, 340, 295, 211, 10, 5295, 116, 76, 1743, 85, 327]\n"
          ],
          "name": "stdout"
        }
      ]
    },
    {
      "cell_type": "code",
      "metadata": {
        "id": "Pu-GRClHO0Ao"
      },
      "source": [
        "lf = {}\n",
        "lp = {}\n",
        "lr = {}\n",
        "tp = {}\n",
        "fp = {}\n",
        "fn = {}"
      ],
      "execution_count": 71,
      "outputs": []
    },
    {
      "cell_type": "code",
      "metadata": {
        "id": "1_PfIrCBxAHi"
      },
      "source": [
        ""
      ],
      "execution_count": 71,
      "outputs": []
    },
    {
      "cell_type": "code",
      "metadata": {
        "id": "fk-n11wq49hA"
      },
      "source": [
        "## Get Things Ready!\n",
        "keys = ['random', 'top-freq', 'similarity', 'top-rank', 'associative_top', 'graph', 'NN', 'NN']\n",
        "funcs = [choose_tag0, choose_tag1, choose_tag4, choose_tag11, choose_tag22, choose_tag5, choose_tag8, choose_tag7]\n",
        "iter = range(1,30)\n"
      ],
      "execution_count": 72,
      "outputs": []
    },
    {
      "cell_type": "code",
      "metadata": {
        "id": "4jJ0uEnC9tkJ",
        "colab": {
          "base_uri": "https://localhost:8080/",
          "height": 1000
        },
        "outputId": "8e1d451a-e498-48ac-ed40-0da7a33b9a49"
      },
      "source": [
        "i = 7\n",
        "lf[keys[i]], lp[keys[i]], lr[keys[i]], tp[keys[i]], fp[keys[i]], fn[keys[i]] = run(iter, funcs[i], offset, v_q, tags, _, _, scores, fill_blank=False)\n",
        "\n",
        "show_me(lf, lp, lr, tp, fp, fn, key=keys[i])"
      ],
      "execution_count": 73,
      "outputs": [
        {
          "output_type": "stream",
          "text": [
            "100%|██████████| 11000/11000 [00:00<00:00, 648187.58it/s]\n",
            "100%|██████████| 11000/11000 [00:00<00:00, 540351.17it/s]\n",
            "100%|██████████| 11000/11000 [00:00<00:00, 384792.11it/s]\n",
            "100%|██████████| 11000/11000 [00:00<00:00, 457480.28it/s]\n",
            "100%|██████████| 11000/11000 [00:00<00:00, 414445.75it/s]\n",
            "100%|██████████| 11000/11000 [00:00<00:00, 347657.99it/s]\n",
            "100%|██████████| 11000/11000 [00:00<00:00, 322598.16it/s]\n",
            "100%|██████████| 11000/11000 [00:00<00:00, 358981.23it/s]\n",
            "100%|██████████| 11000/11000 [00:00<00:00, 308083.44it/s]\n",
            "100%|██████████| 11000/11000 [00:00<00:00, 249035.67it/s]\n",
            "100%|██████████| 11000/11000 [00:01<00:00, 9005.23it/s]\n",
            "100%|██████████| 11000/11000 [00:00<00:00, 260465.77it/s]\n",
            "100%|██████████| 11000/11000 [00:00<00:00, 245781.38it/s]\n",
            "100%|██████████| 11000/11000 [00:00<00:00, 218877.20it/s]\n",
            "100%|██████████| 11000/11000 [00:00<00:00, 223721.16it/s]\n",
            "100%|██████████| 11000/11000 [00:00<00:00, 194604.19it/s]\n",
            "100%|██████████| 11000/11000 [00:00<00:00, 201513.60it/s]\n",
            "100%|██████████| 11000/11000 [00:00<00:00, 189590.20it/s]\n",
            "100%|██████████| 11000/11000 [00:00<00:00, 194237.15it/s]\n",
            "100%|██████████| 11000/11000 [00:00<00:00, 185582.70it/s]\n",
            "100%|██████████| 11000/11000 [00:00<00:00, 196252.29it/s]\n",
            "100%|██████████| 11000/11000 [00:00<00:00, 168933.19it/s]\n",
            "100%|██████████| 11000/11000 [00:00<00:00, 196212.23it/s]\n",
            "100%|██████████| 11000/11000 [00:00<00:00, 181769.75it/s]\n",
            "100%|██████████| 11000/11000 [00:00<00:00, 191955.00it/s]\n",
            "100%|██████████| 11000/11000 [00:00<00:00, 178329.94it/s]\n",
            "100%|██████████| 11000/11000 [00:00<00:00, 188626.73it/s]\n",
            "100%|██████████| 11000/11000 [00:00<00:00, 172358.14it/s]\n",
            "100%|██████████| 11000/11000 [00:01<00:00, 8805.66it/s]\n"
          ],
          "name": "stderr"
        },
        {
          "output_type": "stream",
          "text": [
            "4 0.0841499488440193\n"
          ],
          "name": "stdout"
        },
        {
          "output_type": "display_data",
          "data": {
            "image/png": "[encoded data removed]",
            "text/plain": [
              "<Figure size 432x288 with 1 Axes>"
            ]
          },
          "metadata": {
            "tags": [],
            "needs_background": "light"
          }
        },
        {
          "output_type": "stream",
          "text": [
            "0 0.10045554545455225\n",
            "17 0.17628584848489093\n"
          ],
          "name": "stdout"
        },
        {
          "output_type": "display_data",
          "data": {
            "image/png": "[encoded data removed]",
            "text/plain": [
              "<Figure size 432x288 with 1 Axes>"
            ]
          },
          "metadata": {
            "tags": [],
            "needs_background": "light"
          }
        },
        {
          "output_type": "display_data",
          "data": {
            "image/png": "[encoded data removed]",
            "text/plain": [
              "<Figure size 432x288 with 1 Axes>"
            ]
          },
          "metadata": {
            "tags": [],
            "needs_background": "light"
          }
        }
      ]
    },
    {
      "cell_type": "code",
      "metadata": {
        "id": "Q8Byzoka9aeP",
        "colab": {
          "base_uri": "https://localhost:8080/",
          "height": 1000
        },
        "outputId": "9835d85c-b49f-4a22-d4ba-63902bafebe1"
      },
      "source": [
        "i = 3\n",
        "lf[keys[i]], lp[keys[i]], lr[keys[i]], tp[keys[i]], fp[keys[i]], fn[keys[i]] = run(range(0,7), funcs[i], offset, v_q, _, _, _, _)\n",
        "\n",
        "show_me(lf, lp, lr, tp, fp, fn, key=keys[i])"
      ],
      "execution_count": 74,
      "outputs": [
        {
          "output_type": "stream",
          "text": [
            "100%|██████████| 11000/11000 [00:00<00:00, 656114.90it/s]\n",
            "100%|██████████| 11000/11000 [00:00<00:00, 635526.87it/s]\n",
            "100%|██████████| 11000/11000 [00:00<00:00, 575242.74it/s]\n",
            "100%|██████████| 11000/11000 [00:00<00:00, 464480.82it/s]\n",
            "100%|██████████| 11000/11000 [00:00<00:00, 452282.56it/s]\n",
            "100%|██████████| 11000/11000 [00:00<00:00, 346433.68it/s]\n",
            "100%|██████████| 11000/11000 [00:00<00:00, 343077.04it/s]\n"
          ],
          "name": "stderr"
        },
        {
          "output_type": "stream",
          "text": [
            "0 0.0981640809286445\n"
          ],
          "name": "stdout"
        },
        {
          "output_type": "display_data",
          "data": {
            "image/png": "[encoded data removed]",
            "text/plain": [
              "<Figure size 432x288 with 1 Axes>"
            ]
          },
          "metadata": {
            "tags": [],
            "needs_background": "light"
          }
        },
        {
          "output_type": "stream",
          "text": [
            "1 0.10045554545455225\n",
            "0 0.1692949393939805\n"
          ],
          "name": "stdout"
        },
        {
          "output_type": "display_data",
          "data": {
            "image/png": "[encoded data removed]",
            "text/plain": [
              "<Figure size 432x288 with 1 Axes>"
            ]
          },
          "metadata": {
            "tags": [],
            "needs_background": "light"
          }
        },
        {
          "output_type": "display_data",
          "data": {
            "image/png": "[encoded data removed]",
            "text/plain": [
              "<Figure size 432x288 with 1 Axes>"
            ]
          },
          "metadata": {
            "tags": [],
            "needs_background": "light"
          }
        }
      ]
    },
    {
      "cell_type": "code",
      "metadata": {
        "id": "c2_pUzDu90ek",
        "colab": {
          "base_uri": "https://localhost:8080/",
          "height": 1000
        },
        "outputId": "84868787-2491-4d86-e35a-cc6a90942df6"
      },
      "source": [
        "## Part 0: Baselines\n",
        "i = 0\n",
        "lf[keys[i]], lp[keys[i]], lr[keys[i]], tp[keys[i]], fp[keys[i]], fn[keys[i]] = run(iter, funcs[i], offset, v_q, _, _, _, _)\n",
        "\n",
        "i = 1\n",
        "lf[keys[i]], lp[keys[i]], lr[keys[i]], tp[keys[i]], fp[keys[i]], fn[keys[i]] = run(iter, funcs[i], offset, v_q, _, _, _, _)\n",
        "\n",
        "i = 3\n",
        "lf[keys[i]], lp[keys[i]], lr[keys[i]], tp[keys[i]], fp[keys[i]], fn[keys[i]] = run(iter, funcs[i], offset, v_q, _, _, _, _)\n",
        "\n",
        "\n",
        "## Part 1: Associative Rules\n",
        "# i = 4\n",
        "# lf[keys[i]], lp[keys[i]], lr[keys[i]], tp[keys[i]], fp[keys[i]], fn[keys[i]] = run(iter, funcs[i], offset, v_q, t, s, c, f, fill_blank=False)\n",
        "\n",
        "# i = 3\n",
        "# lf[keys[i]], lp[keys[i]], lr[keys[i]], tp[keys[i]], fp[keys[i]], fn[keys[i]] = run(range(6,36), funcs[i], offset, v_q, t, s, c, f, fill_blank=False)\n",
        "\n",
        "# i = 6\n",
        "# lf[keys[i]], lp[keys[i]], lr[keys[i]], tp[keys[i]], fp[keys[i]], fn[keys[i]] = run(iter, funcs[i], offset, v_q, t, s, c, f, fill_blank=False)\n",
        "\n",
        "# Part 2: Similarity \n",
        "i = 2\n",
        "lf[keys[i]], lp[keys[i]], lr[keys[i]], tp[keys[i]], fp[keys[i]], fn[keys[i]] = run(iter, funcs[i], offset, v_q, t2, s2, c2, f2, fill_blank=True)\n",
        "\n",
        "\n",
        "# Part 3: Graph\n",
        "i = 5\n",
        "lf[keys[i]], lp[keys[i]], lr[keys[i]], tp[keys[i]], fp[keys[i]], fn[keys[i]] = run(iter, funcs[i], offset, v_q, t3, f3, c2, f2, fill_blank=True)\n",
        "\n",
        "# # Part 4: NN\n",
        "# i = 7\n",
        "# lf[keys[i]], lp[keys[i]], lr[keys[i]], tp[keys[i]], fp[keys[i]], fn[keys[i]] = run(iter, funcs[i], offset, v_q, _, _, _, _, fill_blank=True)"
      ],
      "execution_count": 75,
      "outputs": [
        {
          "output_type": "stream",
          "text": [
            "100%|██████████| 11000/11000 [00:01<00:00, 5739.77it/s]\n",
            "100%|██████████| 11000/11000 [00:04<00:00, 2725.68it/s]\n",
            "100%|██████████| 11000/11000 [00:05<00:00, 1914.55it/s]\n",
            "100%|██████████| 11000/11000 [00:07<00:00, 1410.87it/s]\n",
            "100%|██████████| 11000/11000 [00:09<00:00, 1129.18it/s]\n",
            "100%|██████████| 11000/11000 [00:11<00:00, 965.95it/s]\n",
            "100%|██████████| 11000/11000 [00:13<00:00, 820.41it/s]\n",
            "100%|██████████| 11000/11000 [00:15<00:00, 709.93it/s]\n",
            "100%|██████████| 11000/11000 [00:17<00:00, 637.50it/s]\n",
            "100%|██████████| 11000/11000 [00:19<00:00, 573.47it/s]\n",
            "100%|██████████| 11000/11000 [00:22<00:00, 489.92it/s]\n",
            "100%|██████████| 11000/11000 [00:23<00:00, 462.01it/s]\n",
            "100%|██████████| 11000/11000 [00:25<00:00, 431.73it/s]\n",
            "100%|██████████| 11000/11000 [00:28<00:00, 392.56it/s]\n",
            "100%|██████████| 11000/11000 [00:30<00:00, 365.84it/s]\n",
            "100%|██████████| 11000/11000 [00:31<00:00, 347.36it/s]\n",
            "100%|██████████| 11000/11000 [00:33<00:00, 326.83it/s]\n",
            "100%|██████████| 11000/11000 [00:36<00:00, 304.40it/s]\n",
            "100%|██████████| 11000/11000 [00:38<00:00, 288.72it/s]\n",
            "100%|██████████| 11000/11000 [00:39<00:00, 277.66it/s]\n",
            "100%|██████████| 11000/11000 [00:42<00:00, 258.02it/s]\n",
            "100%|██████████| 11000/11000 [00:44<00:00, 245.41it/s]\n",
            "100%|██████████| 11000/11000 [00:45<00:00, 240.60it/s]\n",
            "100%|██████████| 11000/11000 [00:47<00:00, 231.56it/s]\n",
            "100%|██████████| 11000/11000 [00:49<00:00, 222.87it/s]\n",
            "100%|██████████| 11000/11000 [00:52<00:00, 210.13it/s]\n",
            "100%|██████████| 11000/11000 [00:52<00:00, 208.09it/s]\n",
            "100%|██████████| 11000/11000 [00:54<00:00, 200.12it/s]\n",
            "100%|██████████| 11000/11000 [00:57<00:00, 192.91it/s]\n",
            "100%|██████████| 11000/11000 [00:01<00:00, 9319.20it/s]\n",
            "100%|██████████| 11000/11000 [00:00<00:00, 680552.03it/s]\n",
            "100%|██████████| 11000/11000 [00:00<00:00, 592819.25it/s]\n",
            "100%|██████████| 11000/11000 [00:00<00:00, 456362.58it/s]\n",
            "100%|██████████| 11000/11000 [00:00<00:00, 437167.48it/s]\n",
            "100%|██████████| 11000/11000 [00:00<00:00, 438513.72it/s]\n",
            "100%|██████████| 11000/11000 [00:00<00:00, 414676.70it/s]\n",
            "100%|██████████| 11000/11000 [00:00<00:00, 366830.27it/s]\n",
            "100%|██████████| 11000/11000 [00:00<00:00, 300265.82it/s]\n",
            "100%|██████████| 11000/11000 [00:00<00:00, 302921.34it/s]\n",
            "100%|██████████| 11000/11000 [00:00<00:00, 287435.02it/s]\n",
            "100%|██████████| 11000/11000 [00:00<00:00, 251006.99it/s]\n",
            "100%|██████████| 11000/11000 [00:00<00:00, 250011.35it/s]\n",
            "100%|██████████| 11000/11000 [00:00<00:00, 239721.84it/s]\n",
            "100%|██████████| 11000/11000 [00:00<00:00, 227539.84it/s]\n",
            "100%|██████████| 11000/11000 [00:00<00:00, 224300.87it/s]\n",
            "100%|██████████| 11000/11000 [00:00<00:00, 213820.55it/s]\n",
            "100%|██████████| 11000/11000 [00:00<00:00, 188686.90it/s]\n",
            "100%|██████████| 11000/11000 [00:01<00:00, 8868.21it/s]\n",
            "100%|██████████| 11000/11000 [00:00<00:00, 178990.64it/s]\n",
            "100%|██████████| 11000/11000 [00:00<00:00, 171036.79it/s]\n",
            "100%|██████████| 11000/11000 [00:00<00:00, 169860.52it/s]\n",
            "100%|██████████| 11000/11000 [00:00<00:00, 161872.35it/s]\n",
            "100%|██████████| 11000/11000 [00:00<00:00, 153860.38it/s]\n",
            "100%|██████████| 11000/11000 [00:00<00:00, 152147.45it/s]\n",
            "100%|██████████| 11000/11000 [00:00<00:00, 133777.96it/s]\n",
            "100%|██████████| 11000/11000 [00:00<00:00, 130061.80it/s]\n",
            "100%|██████████| 11000/11000 [00:00<00:00, 138327.10it/s]\n",
            "100%|██████████| 11000/11000 [00:00<00:00, 132012.97it/s]\n",
            "100%|██████████| 11000/11000 [00:00<00:00, 617354.14it/s]\n",
            "100%|██████████| 11000/11000 [00:00<00:00, 566526.41it/s]\n",
            "100%|██████████| 11000/11000 [00:00<00:00, 464191.08it/s]\n",
            "100%|██████████| 11000/11000 [00:00<00:00, 444607.30it/s]\n",
            "100%|██████████| 11000/11000 [00:00<00:00, 414859.40it/s]\n",
            "100%|██████████| 11000/11000 [00:00<00:00, 362897.56it/s]\n",
            "100%|██████████| 11000/11000 [00:00<00:00, 324093.79it/s]\n",
            "100%|██████████| 11000/11000 [00:01<00:00, 9006.05it/s]\n",
            "100%|██████████| 11000/11000 [00:00<00:00, 300980.78it/s]\n",
            "100%|██████████| 11000/11000 [00:00<00:00, 270069.62it/s]\n",
            "100%|██████████| 11000/11000 [00:00<00:00, 256191.91it/s]\n",
            "100%|██████████| 11000/11000 [00:00<00:00, 230498.86it/s]\n",
            "100%|██████████| 11000/11000 [00:00<00:00, 236275.82it/s]\n",
            "100%|██████████| 11000/11000 [00:00<00:00, 224676.62it/s]\n",
            "100%|██████████| 11000/11000 [00:00<00:00, 208835.24it/s]\n",
            "100%|██████████| 11000/11000 [00:00<00:00, 182246.51it/s]\n",
            "100%|██████████| 11000/11000 [00:00<00:00, 192392.85it/s]\n",
            "100%|██████████| 11000/11000 [00:00<00:00, 183284.71it/s]\n",
            "100%|██████████| 11000/11000 [00:00<00:00, 154838.89it/s]\n",
            "100%|██████████| 11000/11000 [00:00<00:00, 162128.33it/s]\n",
            "100%|██████████| 11000/11000 [00:00<00:00, 154826.42it/s]\n",
            "100%|██████████| 11000/11000 [00:00<00:00, 162171.07it/s]\n",
            "100%|██████████| 11000/11000 [00:00<00:00, 151759.09it/s]\n",
            "100%|██████████| 11000/11000 [00:00<00:00, 152877.96it/s]\n",
            "100%|██████████| 11000/11000 [00:00<00:00, 145415.69it/s]\n",
            "100%|██████████| 11000/11000 [00:00<00:00, 143078.39it/s]\n",
            "100%|██████████| 11000/11000 [00:01<00:00, 8592.59it/s]\n",
            "100%|██████████| 11000/11000 [00:00<00:00, 136249.08it/s]\n",
            "100%|██████████| 11000/11000 [00:00<00:00, 126406.80it/s]\n",
            "100%|██████████| 11000/11000 [00:00<00:00, 41965.82it/s]\n",
            "100%|██████████| 11000/11000 [00:00<00:00, 40383.61it/s]\n",
            "100%|██████████| 11000/11000 [00:00<00:00, 39508.90it/s]\n",
            "100%|██████████| 11000/11000 [00:00<00:00, 38781.40it/s]\n",
            "100%|██████████| 11000/11000 [00:00<00:00, 38831.02it/s]\n",
            "100%|██████████| 11000/11000 [00:00<00:00, 38193.61it/s]\n",
            "100%|██████████| 11000/11000 [00:00<00:00, 37462.92it/s]\n",
            "100%|██████████| 11000/11000 [00:00<00:00, 36758.55it/s]\n",
            "100%|██████████| 11000/11000 [00:00<00:00, 34070.80it/s]\n",
            "100%|██████████| 11000/11000 [00:00<00:00, 35205.88it/s]\n",
            "100%|██████████| 11000/11000 [00:00<00:00, 34995.80it/s]\n",
            "100%|██████████| 11000/11000 [00:00<00:00, 35198.09it/s]\n",
            "100%|██████████| 11000/11000 [00:00<00:00, 34856.70it/s]\n",
            "100%|██████████| 11000/11000 [00:00<00:00, 34132.32it/s]\n",
            "100%|██████████| 11000/11000 [00:00<00:00, 32880.35it/s]\n",
            "100%|██████████| 11000/11000 [00:01<00:00, 7192.50it/s]\n",
            "100%|██████████| 11000/11000 [00:00<00:00, 32453.38it/s]\n",
            "100%|██████████| 11000/11000 [00:00<00:00, 32173.41it/s]\n",
            "100%|██████████| 11000/11000 [00:00<00:00, 32405.96it/s]\n",
            "100%|██████████| 11000/11000 [00:00<00:00, 31396.67it/s]\n",
            "100%|██████████| 11000/11000 [00:00<00:00, 32211.35it/s]\n",
            "100%|██████████| 11000/11000 [00:00<00:00, 31796.78it/s]\n",
            "100%|██████████| 11000/11000 [00:00<00:00, 30140.37it/s]\n",
            "100%|██████████| 11000/11000 [00:00<00:00, 30286.61it/s]\n",
            "100%|██████████| 11000/11000 [00:00<00:00, 31002.84it/s]\n",
            "100%|██████████| 11000/11000 [00:00<00:00, 29469.21it/s]\n",
            "100%|██████████| 11000/11000 [00:00<00:00, 26314.02it/s]\n",
            "100%|██████████| 11000/11000 [00:00<00:00, 30248.60it/s]\n",
            "100%|██████████| 11000/11000 [00:00<00:00, 29237.93it/s]\n",
            "100%|██████████| 11000/11000 [00:00<00:00, 43302.42it/s]\n",
            "100%|██████████| 11000/11000 [00:00<00:00, 42856.59it/s]\n",
            "100%|██████████| 11000/11000 [00:00<00:00, 42699.32it/s]\n",
            "100%|██████████| 11000/11000 [00:00<00:00, 42159.16it/s]\n",
            "100%|██████████| 11000/11000 [00:01<00:00, 7548.33it/s]\n",
            "100%|██████████| 11000/11000 [00:00<00:00, 41029.46it/s]\n",
            "100%|██████████| 11000/11000 [00:00<00:00, 39789.49it/s]\n",
            "100%|██████████| 11000/11000 [00:00<00:00, 39157.08it/s]\n",
            "100%|██████████| 11000/11000 [00:00<00:00, 38776.19it/s]\n",
            "100%|██████████| 11000/11000 [00:00<00:00, 38547.91it/s]\n",
            "100%|██████████| 11000/11000 [00:00<00:00, 37913.30it/s]\n",
            "100%|██████████| 11000/11000 [00:00<00:00, 37433.28it/s]\n",
            "100%|██████████| 11000/11000 [00:00<00:00, 37335.08it/s]\n",
            "100%|██████████| 11000/11000 [00:00<00:00, 36698.73it/s]\n",
            "100%|██████████| 11000/11000 [00:00<00:00, 37289.66it/s]\n",
            "100%|██████████| 11000/11000 [00:00<00:00, 33729.73it/s]\n",
            "100%|██████████| 11000/11000 [00:00<00:00, 34883.56it/s]\n",
            "100%|██████████| 11000/11000 [00:00<00:00, 33999.29it/s]\n",
            "100%|██████████| 11000/11000 [00:00<00:00, 34709.20it/s]\n",
            "100%|██████████| 11000/11000 [00:00<00:00, 34790.63it/s]\n",
            "100%|██████████| 11000/11000 [00:00<00:00, 33823.30it/s]\n",
            "100%|██████████| 11000/11000 [00:00<00:00, 33733.92it/s]\n",
            "100%|██████████| 11000/11000 [00:00<00:00, 34024.11it/s]\n",
            "100%|██████████| 11000/11000 [00:01<00:00, 7210.00it/s]\n",
            "100%|██████████| 11000/11000 [00:00<00:00, 32952.37it/s]\n",
            "100%|██████████| 11000/11000 [00:00<00:00, 32936.21it/s]\n",
            "100%|██████████| 11000/11000 [00:00<00:00, 31851.85it/s]\n",
            "100%|██████████| 11000/11000 [00:00<00:00, 32465.02it/s]\n",
            "100%|██████████| 11000/11000 [00:00<00:00, 31861.35it/s]\n",
            "  0%|          | 0/11000 [00:00<?, ?it/s]\n"
          ],
          "name": "stderr"
        },
        {
          "output_type": "error",
          "ename": "IndexError",
          "evalue": "ignored",
          "traceback": [
            "\u001b[0;31m---------------------------------------------------------------------------\u001b[0m",
            "\u001b[0;31mIndexError\u001b[0m                                Traceback (most recent call last)",
            "\u001b[0;32m<ipython-input-75-ae82e0fb9a85>\u001b[0m in \u001b[0;36m<module>\u001b[0;34m()\u001b[0m\n\u001b[1;32m     31\u001b[0m \u001b[0;31m# Part 4: NN\u001b[0m\u001b[0;34m\u001b[0m\u001b[0;34m\u001b[0m\u001b[0;34m\u001b[0m\u001b[0m\n\u001b[1;32m     32\u001b[0m \u001b[0mi\u001b[0m \u001b[0;34m=\u001b[0m \u001b[0;36m7\u001b[0m\u001b[0;34m\u001b[0m\u001b[0;34m\u001b[0m\u001b[0m\n\u001b[0;32m---> 33\u001b[0;31m \u001b[0mlf\u001b[0m\u001b[0;34m[\u001b[0m\u001b[0mkeys\u001b[0m\u001b[0;34m[\u001b[0m\u001b[0mi\u001b[0m\u001b[0;34m]\u001b[0m\u001b[0;34m]\u001b[0m\u001b[0;34m,\u001b[0m \u001b[0mlp\u001b[0m\u001b[0;34m[\u001b[0m\u001b[0mkeys\u001b[0m\u001b[0;34m[\u001b[0m\u001b[0mi\u001b[0m\u001b[0;34m]\u001b[0m\u001b[0;34m]\u001b[0m\u001b[0;34m,\u001b[0m \u001b[0mlr\u001b[0m\u001b[0;34m[\u001b[0m\u001b[0mkeys\u001b[0m\u001b[0;34m[\u001b[0m\u001b[0mi\u001b[0m\u001b[0;34m]\u001b[0m\u001b[0;34m]\u001b[0m\u001b[0;34m,\u001b[0m \u001b[0mtp\u001b[0m\u001b[0;34m[\u001b[0m\u001b[0mkeys\u001b[0m\u001b[0;34m[\u001b[0m\u001b[0mi\u001b[0m\u001b[0;34m]\u001b[0m\u001b[0;34m]\u001b[0m\u001b[0;34m,\u001b[0m \u001b[0mfp\u001b[0m\u001b[0;34m[\u001b[0m\u001b[0mkeys\u001b[0m\u001b[0;34m[\u001b[0m\u001b[0mi\u001b[0m\u001b[0;34m]\u001b[0m\u001b[0;34m]\u001b[0m\u001b[0;34m,\u001b[0m \u001b[0mfn\u001b[0m\u001b[0;34m[\u001b[0m\u001b[0mkeys\u001b[0m\u001b[0;34m[\u001b[0m\u001b[0mi\u001b[0m\u001b[0;34m]\u001b[0m\u001b[0;34m]\u001b[0m \u001b[0;34m=\u001b[0m \u001b[0mrun\u001b[0m\u001b[0;34m(\u001b[0m\u001b[0miter\u001b[0m\u001b[0;34m,\u001b[0m \u001b[0mfuncs\u001b[0m\u001b[0;34m[\u001b[0m\u001b[0mi\u001b[0m\u001b[0;34m]\u001b[0m\u001b[0;34m,\u001b[0m \u001b[0moffset\u001b[0m\u001b[0;34m,\u001b[0m \u001b[0mv_q\u001b[0m\u001b[0;34m,\u001b[0m \u001b[0m_\u001b[0m\u001b[0;34m,\u001b[0m \u001b[0m_\u001b[0m\u001b[0;34m,\u001b[0m \u001b[0m_\u001b[0m\u001b[0;34m,\u001b[0m \u001b[0m_\u001b[0m\u001b[0;34m,\u001b[0m \u001b[0mfill_blank\u001b[0m\u001b[0;34m=\u001b[0m\u001b[0;32mTrue\u001b[0m\u001b[0;34m)\u001b[0m\u001b[0;34m\u001b[0m\u001b[0;34m\u001b[0m\u001b[0m\n\u001b[0m",
            "\u001b[0;32m<ipython-input-62-f6a2154d8011>\u001b[0m in \u001b[0;36mrun\u001b[0;34m(iter, get_tag_func, offset, v_q, t, s, c, f, fill_blank)\u001b[0m\n\u001b[1;32m      7\u001b[0m   \u001b[0mfn\u001b[0m \u001b[0;34m=\u001b[0m \u001b[0;34m[\u001b[0m\u001b[0;34m]\u001b[0m\u001b[0;34m\u001b[0m\u001b[0;34m\u001b[0m\u001b[0m\n\u001b[1;32m      8\u001b[0m   \u001b[0;32mfor\u001b[0m \u001b[0mi\u001b[0m \u001b[0;32min\u001b[0m \u001b[0miter\u001b[0m\u001b[0;34m:\u001b[0m\u001b[0;34m\u001b[0m\u001b[0;34m\u001b[0m\u001b[0m\n\u001b[0;32m----> 9\u001b[0;31m     \u001b[0mp_q2t\u001b[0m \u001b[0;34m=\u001b[0m \u001b[0mget_tag_func\u001b[0m\u001b[0;34m(\u001b[0m\u001b[0mv_q\u001b[0m\u001b[0;34m[\u001b[0m\u001b[0;34m:\u001b[0m\u001b[0moffset\u001b[0m\u001b[0;34m]\u001b[0m\u001b[0;34m,\u001b[0m \u001b[0mt\u001b[0m\u001b[0;34m,\u001b[0m \u001b[0ms\u001b[0m\u001b[0;34m,\u001b[0m \u001b[0mc\u001b[0m\u001b[0;34m,\u001b[0m \u001b[0mf\u001b[0m\u001b[0;34m,\u001b[0m \u001b[0mi\u001b[0m\u001b[0;34m)\u001b[0m\u001b[0;34m\u001b[0m\u001b[0;34m\u001b[0m\u001b[0m\n\u001b[0m\u001b[1;32m     10\u001b[0m     \u001b[0mwrite_prediction\u001b[0m\u001b[0;34m(\u001b[0m\u001b[0mv_q\u001b[0m\u001b[0;34m[\u001b[0m\u001b[0;34m:\u001b[0m\u001b[0moffset\u001b[0m\u001b[0;34m]\u001b[0m\u001b[0;34m,\u001b[0m \u001b[0mp_q2t\u001b[0m\u001b[0;34m,\u001b[0m \u001b[0mdataset_id\u001b[0m\u001b[0;34m,\u001b[0m \u001b[0mfill_blank\u001b[0m\u001b[0;34m=\u001b[0m\u001b[0mfill_blank\u001b[0m\u001b[0;34m)\u001b[0m\u001b[0;34m\u001b[0m\u001b[0;34m\u001b[0m\u001b[0m\n\u001b[1;32m     11\u001b[0m     \u001b[0mvalid_path\u001b[0m \u001b[0;34m=\u001b[0m \u001b[0mos\u001b[0m\u001b[0;34m.\u001b[0m\u001b[0mpath\u001b[0m\u001b[0;34m.\u001b[0m\u001b[0mjoin\u001b[0m\u001b[0;34m(\u001b[0m\u001b[0mBASE_DIR\u001b[0m\u001b[0;34m,\u001b[0m \u001b[0mDATASETS\u001b[0m\u001b[0;34m[\u001b[0m\u001b[0mdataset_id\u001b[0m\u001b[0;34m]\u001b[0m\u001b[0;34m,\u001b[0m \u001b[0mTAG_VALID\u001b[0m\u001b[0;34m.\u001b[0m\u001b[0mformat\u001b[0m\u001b[0;34m(\u001b[0m\u001b[0mDATASETS\u001b[0m\u001b[0;34m[\u001b[0m\u001b[0mdataset_id\u001b[0m\u001b[0;34m]\u001b[0m\u001b[0;34m)\u001b[0m\u001b[0;34m)\u001b[0m\u001b[0;34m\u001b[0m\u001b[0;34m\u001b[0m\u001b[0m\n",
            "\u001b[0;32m<ipython-input-51-a0a972bf564a>\u001b[0m in \u001b[0;36mchoose_tag7\u001b[0;34m(questions, t, s, c, f, cnt)\u001b[0m\n\u001b[1;32m      2\u001b[0m   \u001b[0mq2t\u001b[0m \u001b[0;34m=\u001b[0m \u001b[0;34m{\u001b[0m\u001b[0;34m}\u001b[0m\u001b[0;34m\u001b[0m\u001b[0;34m\u001b[0m\u001b[0m\n\u001b[1;32m      3\u001b[0m   \u001b[0;32mfor\u001b[0m \u001b[0mq\u001b[0m \u001b[0;32min\u001b[0m \u001b[0mtqdm\u001b[0m\u001b[0;34m(\u001b[0m\u001b[0mquestions\u001b[0m\u001b[0;34m)\u001b[0m\u001b[0;34m:\u001b[0m\u001b[0;34m\u001b[0m\u001b[0;34m\u001b[0m\u001b[0m\n\u001b[0;32m----> 4\u001b[0;31m     \u001b[0mq2t\u001b[0m\u001b[0;34m[\u001b[0m\u001b[0mq\u001b[0m\u001b[0;34m]\u001b[0m \u001b[0;34m=\u001b[0m \u001b[0;34m[\u001b[0m\u001b[0mtuple\u001b[0m\u001b[0;34m(\u001b[0m\u001b[0;34m[\u001b[0m\u001b[0mt2\u001b[0m\u001b[0;34m]\u001b[0m\u001b[0;34m)\u001b[0m \u001b[0;32mfor\u001b[0m \u001b[0mt2\u001b[0m \u001b[0;32min\u001b[0m \u001b[0mt\u001b[0m\u001b[0;34m[\u001b[0m\u001b[0mq\u001b[0m\u001b[0;34m]\u001b[0m\u001b[0;34m[\u001b[0m\u001b[0;34m:\u001b[0m\u001b[0mcnt\u001b[0m\u001b[0;34m]\u001b[0m\u001b[0;34m]\u001b[0m\u001b[0;34m\u001b[0m\u001b[0;34m\u001b[0m\u001b[0m\n\u001b[0m\u001b[1;32m      5\u001b[0m   \u001b[0;32mreturn\u001b[0m \u001b[0mq2t\u001b[0m\u001b[0;34m\u001b[0m\u001b[0;34m\u001b[0m\u001b[0m\n",
            "\u001b[0;31mIndexError\u001b[0m: tuple index out of range"
          ]
        }
      ]
    },
    {
      "cell_type": "code",
      "metadata": {
        "id": "Wg6Mz9-OIHFM",
        "colab": {
          "base_uri": "https://localhost:8080/",
          "height": 1000
        },
        "outputId": "2f4c1632-44c5-4a8c-f847-641713a69f43"
      },
      "source": [
        "show_me(lf, lp, lr, tp, fp, fn)"
      ],
      "execution_count": 76,
      "outputs": [
        {
          "output_type": "display_data",
          "data": {
            "image/png": "[encoded data removed]",
            "text/plain": [
              "<Figure size 1080x1080 with 1 Axes>"
            ]
          },
          "metadata": {
            "tags": [],
            "needs_background": "light"
          }
        },
        {
          "output_type": "display_data",
          "data": {
            "image/png": "[encoded data removed]",
            "text/plain": [
              "<Figure size 1080x1080 with 1 Axes>"
            ]
          },
          "metadata": {
            "tags": [],
            "needs_background": "light"
          }
        },
        {
          "output_type": "display_data",
          "data": {
            "image/png": "[encoded data removed]",
            "text/plain": [
              "<Figure size 1080x1080 with 1 Axes>"
            ]
          },
          "metadata": {
            "tags": [],
            "needs_background": "light"
          }
        },
        {
          "output_type": "display_data",
          "data": {
            "image/png": "[encoded data removed]",
            "text/plain": [
              "<Figure size 1080x1080 with 1 Axes>"
            ]
          },
          "metadata": {
            "tags": [],
            "needs_background": "light"
          }
        },
        {
          "output_type": "display_data",
          "data": {
            "image/png": "[encoded data removed]",
            "text/plain": [
              "<Figure size 432x288 with 1 Axes>"
            ]
          },
          "metadata": {
            "tags": [],
            "needs_background": "light"
          }
        },
        {
          "output_type": "display_data",
          "data": {
            "text/plain": [
              "<Figure size 720x720 with 0 Axes>"
            ]
          },
          "metadata": {
            "tags": []
          }
        }
      ]
    },
    {
      "cell_type": "code",
      "metadata": {
        "id": "Dgkqj34yLyHC",
        "colab": {
          "base_uri": "https://localhost:8080/",
          "height": 1000
        },
        "outputId": "68922aff-6ffb-4b25-ed3b-f08c7826a97b"
      },
      "source": [
        "q2 = {}\n",
        "q3 = {}\n",
        "for q, a in q2a.items():\n",
        "  q2[q] = len(a)\n",
        " \n",
        "for q, t in q2t.items():\n",
        "  q3[q] = len(t)\n",
        "\n",
        "a = []\n",
        "b = []\n",
        "s = {}\n",
        "for q in q2t:\n",
        "  a.append(q2[q])\n",
        "  b.append(q3[q])\n",
        "  if (a[-1], b[-1]) not in s:\n",
        "    s[(a[-1], b[-1])] = 0.0 \n",
        "  s[(a[-1], b[-1])] += 1\n",
        "\n",
        "print(len(a), len(b), len(q2), len(q3))\n",
        "plt.style.use('seaborn-whitegrid')\n",
        "plt.scatter(a,b)"
      ],
      "execution_count": 77,
      "outputs": [
        {
          "output_type": "stream",
          "text": [
            "95704 95704 119630 95704\n"
          ],
          "name": "stdout"
        },
        {
          "output_type": "execute_result",
          "data": {
            "text/plain": [
              "<matplotlib.collections.PathCollection at 0x7f8bc561b510>"
            ]
          },
          "metadata": {
            "tags": []
          },
          "execution_count": 77
        },
        {
          "output_type": "stream",
          "text": [
            "[2021-07-13 23:53:05,926] [DEBUG] [matplotlib.font_manager]  findfont: Matching sans\\-serif:style=normal:variant=normal:weight=normal:stretch=normal:size=10.0.\n",
            "[2021-07-13 23:53:05,927] [DEBUG] [matplotlib.font_manager]  findfont: score(<Font 'DejaVu Serif' (DejaVuSerif-Italic.ttf) italic normal 400 normal>) = 11.05\n",
            "[2021-07-13 23:53:05,928] [DEBUG] [matplotlib.font_manager]  findfont: score(<Font 'DejaVu Sans Mono' (DejaVuSansMono-BoldOblique.ttf) oblique normal 700 normal>) = 11.335\n",
            "[2021-07-13 23:53:05,930] [DEBUG] [matplotlib.font_manager]  findfont: score(<Font 'cmss10' (cmss10.ttf) normal normal 400 normal>) = 10.05\n",
            "[2021-07-13 23:53:05,930] [DEBUG] [matplotlib.font_manager]  findfont: score(<Font 'cmex10' (cmex10.ttf) normal normal 400 normal>) = 10.05\n",
            "[2021-07-13 23:53:05,931] [DEBUG] [matplotlib.font_manager]  findfont: score(<Font 'STIXNonUnicode' (STIXNonUniBol.ttf) normal normal 700 normal>) = 10.335\n",
            "[2021-07-13 23:53:05,932] [DEBUG] [matplotlib.font_manager]  findfont: score(<Font 'STIXNonUnicode' (STIXNonUniIta.ttf) italic normal 400 normal>) = 11.05\n",
            "[2021-07-13 23:53:05,934] [DEBUG] [matplotlib.font_manager]  findfont: score(<Font 'STIXSizeOneSym' (STIXSizOneSymBol.ttf) normal normal 700 normal>) = 10.335\n",
            "[2021-07-13 23:53:05,936] [DEBUG] [matplotlib.font_manager]  findfont: score(<Font 'STIXSizeFiveSym' (STIXSizFiveSymReg.ttf) normal normal regular normal>) = 10.05\n",
            "[2021-07-13 23:53:05,937] [DEBUG] [matplotlib.font_manager]  findfont: score(<Font 'DejaVu Serif' (DejaVuSerif-Bold.ttf) normal normal 700 normal>) = 10.335\n",
            "[2021-07-13 23:53:05,939] [DEBUG] [matplotlib.font_manager]  findfont: score(<Font 'DejaVu Sans' (DejaVuSans-BoldOblique.ttf) oblique normal 700 normal>) = 5.335\n",
            "[2021-07-13 23:53:05,941] [DEBUG] [matplotlib.font_manager]  findfont: score(<Font 'DejaVu Sans Mono' (DejaVuSansMono-Oblique.ttf) oblique normal 400 normal>) = 11.05\n",
            "[2021-07-13 23:53:05,943] [DEBUG] [matplotlib.font_manager]  findfont: score(<Font 'STIXSizeFourSym' (STIXSizFourSymBol.ttf) normal normal 700 normal>) = 10.335\n",
            "[2021-07-13 23:53:05,944] [DEBUG] [matplotlib.font_manager]  findfont: score(<Font 'DejaVu Sans' (DejaVuSans.ttf) normal normal 400 normal>) = 4.05\n",
            "[2021-07-13 23:53:05,946] [DEBUG] [matplotlib.font_manager]  findfont: score(<Font 'DejaVu Sans' (DejaVuSans-Oblique.ttf) oblique normal 400 normal>) = 5.05\n",
            "[2021-07-13 23:53:05,947] [DEBUG] [matplotlib.font_manager]  findfont: score(<Font 'STIXSizeThreeSym' (STIXSizThreeSymBol.ttf) normal normal 700 normal>) = 10.335\n",
            "[2021-07-13 23:53:05,949] [DEBUG] [matplotlib.font_manager]  findfont: score(<Font 'STIXSizeOneSym' (STIXSizOneSymReg.ttf) normal normal regular normal>) = 10.05\n",
            "[2021-07-13 23:53:05,950] [DEBUG] [matplotlib.font_manager]  findfont: score(<Font 'DejaVu Sans Mono' (DejaVuSansMono-Bold.ttf) normal normal 700 normal>) = 10.335\n",
            "[2021-07-13 23:53:05,952] [DEBUG] [matplotlib.font_manager]  findfont: score(<Font 'STIXNonUnicode' (STIXNonUni.ttf) normal normal regular normal>) = 10.05\n",
            "[2021-07-13 23:53:05,954] [DEBUG] [matplotlib.font_manager]  findfont: score(<Font 'cmtt10' (cmtt10.ttf) normal normal 400 normal>) = 10.05\n",
            "[2021-07-13 23:53:05,956] [DEBUG] [matplotlib.font_manager]  findfont: score(<Font 'STIXGeneral' (STIXGeneralItalic.ttf) italic normal 400 normal>) = 11.05\n",
            "[2021-07-13 23:53:05,957] [DEBUG] [matplotlib.font_manager]  findfont: score(<Font 'DejaVu Serif' (DejaVuSerif.ttf) normal normal 400 normal>) = 10.05\n",
            "[2021-07-13 23:53:05,959] [DEBUG] [matplotlib.font_manager]  findfont: score(<Font 'cmb10' (cmb10.ttf) normal normal 400 normal>) = 10.05\n",
            "[2021-07-13 23:53:05,960] [DEBUG] [matplotlib.font_manager]  findfont: score(<Font 'cmmi10' (cmmi10.ttf) normal normal 400 normal>) = 10.05\n",
            "[2021-07-13 23:53:05,962] [DEBUG] [matplotlib.font_manager]  findfont: score(<Font 'STIXNonUnicode' (STIXNonUniBolIta.ttf) italic normal 700 normal>) = 11.335\n",
            "[2021-07-13 23:53:05,963] [DEBUG] [matplotlib.font_manager]  findfont: score(<Font 'DejaVu Sans' (DejaVuSans-Bold.ttf) normal normal 700 normal>) = 4.335\n",
            "[2021-07-13 23:53:05,965] [DEBUG] [matplotlib.font_manager]  findfont: score(<Font 'STIXGeneral' (STIXGeneralBol.ttf) normal normal 700 normal>) = 10.335\n",
            "[2021-07-13 23:53:05,967] [DEBUG] [matplotlib.font_manager]  findfont: score(<Font 'DejaVu Sans Display' (DejaVuSansDisplay.ttf) normal normal 400 normal>) = 10.05\n",
            "[2021-07-13 23:53:05,969] [DEBUG] [matplotlib.font_manager]  findfont: score(<Font 'STIXGeneral' (STIXGeneral.ttf) normal normal regular normal>) = 10.05\n",
            "[2021-07-13 23:53:05,970] [DEBUG] [matplotlib.font_manager]  findfont: score(<Font 'STIXSizeFourSym' (STIXSizFourSymReg.ttf) normal normal regular normal>) = 10.05\n",
            "[2021-07-13 23:53:05,972] [DEBUG] [matplotlib.font_manager]  findfont: score(<Font 'STIXGeneral' (STIXGeneralBolIta.ttf) italic normal 700 normal>) = 11.335\n",
            "[2021-07-13 23:53:05,973] [DEBUG] [matplotlib.font_manager]  findfont: score(<Font 'DejaVu Serif Display' (DejaVuSerifDisplay.ttf) normal normal 400 normal>) = 10.05\n",
            "[2021-07-13 23:53:05,981] [DEBUG] [matplotlib.font_manager]  findfont: score(<Font 'STIXSizeTwoSym' (STIXSizTwoSymReg.ttf) normal normal regular normal>) = 10.05\n",
            "[2021-07-13 23:53:05,982] [DEBUG] [matplotlib.font_manager]  findfont: score(<Font 'cmsy10' (cmsy10.ttf) normal normal 400 normal>) = 10.05\n",
            "[2021-07-13 23:53:05,983] [DEBUG] [matplotlib.font_manager]  findfont: score(<Font 'cmr10' (cmr10.ttf) normal normal 400 normal>) = 10.05\n",
            "[2021-07-13 23:53:05,984] [DEBUG] [matplotlib.font_manager]  findfont: score(<Font 'STIXSizeThreeSym' (STIXSizThreeSymReg.ttf) normal normal regular normal>) = 10.05\n",
            "[2021-07-13 23:53:05,986] [DEBUG] [matplotlib.font_manager]  findfont: score(<Font 'STIXSizeTwoSym' (STIXSizTwoSymBol.ttf) normal normal 700 normal>) = 10.335\n",
            "[2021-07-13 23:53:05,987] [DEBUG] [matplotlib.font_manager]  findfont: score(<Font 'DejaVu Sans Mono' (DejaVuSansMono.ttf) normal normal 400 normal>) = 10.05\n",
            "[2021-07-13 23:53:05,993] [DEBUG] [matplotlib.font_manager]  findfont: score(<Font 'DejaVu Serif' (DejaVuSerif-BoldItalic.ttf) italic normal 700 normal>) = 11.335\n",
            "[2021-07-13 23:53:05,994] [DEBUG] [matplotlib.font_manager]  findfont: score(<Font 'Liberation Serif' (LiberationSerif-Bold.ttf) normal normal 700 normal>) = 10.335\n",
            "[2021-07-13 23:53:05,996] [DEBUG] [matplotlib.font_manager]  findfont: score(<Font 'Liberation Serif' (LiberationSerif-Italic.ttf) italic normal 400 normal>) = 11.05\n",
            "[2021-07-13 23:53:05,998] [DEBUG] [matplotlib.font_manager]  findfont: score(<Font 'Liberation Sans Narrow' (LiberationSansNarrow-Italic.ttf) italic normal 400 condensed>) = 11.25\n",
            "[2021-07-13 23:53:05,999] [DEBUG] [matplotlib.font_manager]  findfont: score(<Font 'Liberation Mono' (LiberationMono-Regular.ttf) normal normal 400 normal>) = 10.05\n",
            "[2021-07-13 23:53:06,001] [DEBUG] [matplotlib.font_manager]  findfont: score(<Font 'Liberation Sans' (LiberationSans-Regular.ttf) normal normal 400 normal>) = 2.05\n",
            "[2021-07-13 23:53:06,010] [DEBUG] [matplotlib.font_manager]  findfont: score(<Font 'Liberation Sans Narrow' (LiberationSansNarrow-BoldItalic.ttf) italic normal 700 condensed>) = 11.535\n",
            "[2021-07-13 23:53:06,034] [DEBUG] [matplotlib.font_manager]  findfont: score(<Font 'Humor Sans' (Humor-Sans.ttf) normal normal 400 normal>) = 10.05\n",
            "[2021-07-13 23:53:06,035] [DEBUG] [matplotlib.font_manager]  findfont: score(<Font 'Liberation Sans' (LiberationSans-Italic.ttf) italic normal 400 normal>) = 3.05\n",
            "[2021-07-13 23:53:06,036] [DEBUG] [matplotlib.font_manager]  findfont: score(<Font 'Liberation Sans Narrow' (LiberationSansNarrow-Regular.ttf) normal normal 400 condensed>) = 10.25\n",
            "[2021-07-13 23:53:06,037] [DEBUG] [matplotlib.font_manager]  findfont: score(<Font 'Liberation Mono' (LiberationMono-BoldItalic.ttf) italic normal 700 normal>) = 11.335\n",
            "[2021-07-13 23:53:06,038] [DEBUG] [matplotlib.font_manager]  findfont: score(<Font 'Liberation Sans' (LiberationSans-BoldItalic.ttf) italic normal 700 normal>) = 3.335\n",
            "[2021-07-13 23:53:06,039] [DEBUG] [matplotlib.font_manager]  findfont: score(<Font 'Liberation Mono' (LiberationMono-Bold.ttf) normal normal 700 normal>) = 10.335\n",
            "[2021-07-13 23:53:06,041] [DEBUG] [matplotlib.font_manager]  findfont: score(<Font 'Liberation Sans Narrow' (LiberationSansNarrow-Bold.ttf) normal normal 700 condensed>) = 10.535\n",
            "[2021-07-13 23:53:06,042] [DEBUG] [matplotlib.font_manager]  findfont: score(<Font 'Liberation Serif' (LiberationSerif-Regular.ttf) normal normal 400 normal>) = 10.05\n",
            "[2021-07-13 23:53:06,043] [DEBUG] [matplotlib.font_manager]  findfont: score(<Font 'Liberation Mono' (LiberationMono-Italic.ttf) italic normal 400 normal>) = 11.05\n",
            "[2021-07-13 23:53:06,044] [DEBUG] [matplotlib.font_manager]  findfont: score(<Font 'Liberation Sans' (LiberationSans-Bold.ttf) normal normal 700 normal>) = 2.335\n",
            "[2021-07-13 23:53:06,046] [DEBUG] [matplotlib.font_manager]  findfont: score(<Font 'Liberation Serif' (LiberationSerif-BoldItalic.ttf) italic normal 700 normal>) = 11.335\n",
            "[2021-07-13 23:53:06,048] [DEBUG] [matplotlib.font_manager]  findfont: Matching sans\\-serif:style=normal:variant=normal:weight=normal:stretch=normal:size=10.0 to Liberation Sans ('/usr/share/fonts/truetype/liberation/LiberationSans-Regular.ttf') with score of 2.050000.\n"
          ],
          "name": "stderr"
        },
        {
          "output_type": "display_data",
          "data": {
            "image/png": "[encoded data removed]",
            "text/plain": [
              "<Figure size 432x288 with 1 Axes>"
            ]
          },
          "metadata": {
            "tags": []
          }
        }
      ]
    },
    {
      "cell_type": "code",
      "metadata": {
        "id": "edGQs75SZtw3",
        "colab": {
          "base_uri": "https://localhost:8080/",
          "height": 1000
        },
        "outputId": "a746ab7c-a877-434d-dd9a-4611933065b4"
      },
      "source": [
        "x = []\n",
        "y = []\n",
        "sizes = []\n",
        "for k, v in s.items():\n",
        "  x.append(k[0])\n",
        "  y.append(k[1])\n",
        "  sizes.append(np.log(v) * 30)\n",
        "plt.figure(figsize=(10,8))\n",
        "plt.style.use('seaborn-whitegrid')\n",
        "plt.title('Number of Tags vs. Number of Answerer')\n",
        "plt.xlabel('Number of Answerers')\n",
        "plt.ylabel('Number of Tags')\n",
        "plt.scatter(x,y, s=sizes, cmap='viridis')"
      ],
      "execution_count": 78,
      "outputs": [
        {
          "output_type": "execute_result",
          "data": {
            "text/plain": [
              "<matplotlib.collections.PathCollection at 0x7f8babc30b10>"
            ]
          },
          "metadata": {
            "tags": []
          },
          "execution_count": 78
        },
        {
          "output_type": "stream",
          "text": [
            "[2021-07-13 23:53:06,561] [DEBUG] [matplotlib.font_manager]  findfont: Matching sans\\-serif:style=normal:variant=normal:weight=normal:stretch=normal:size=12.0.\n",
            "[2021-07-13 23:53:06,563] [DEBUG] [matplotlib.font_manager]  findfont: score(<Font 'DejaVu Serif' (DejaVuSerif-Italic.ttf) italic normal 400 normal>) = 11.05\n",
            "[2021-07-13 23:53:06,564] [DEBUG] [matplotlib.font_manager]  findfont: score(<Font 'DejaVu Sans Mono' (DejaVuSansMono-BoldOblique.ttf) oblique normal 700 normal>) = 11.335\n",
            "[2021-07-13 23:53:06,567] [DEBUG] [matplotlib.font_manager]  findfont: score(<Font 'cmss10' (cmss10.ttf) normal normal 400 normal>) = 10.05\n",
            "[2021-07-13 23:53:06,569] [DEBUG] [matplotlib.font_manager]  findfont: score(<Font 'cmex10' (cmex10.ttf) normal normal 400 normal>) = 10.05\n",
            "[2021-07-13 23:53:06,570] [DEBUG] [matplotlib.font_manager]  findfont: score(<Font 'STIXNonUnicode' (STIXNonUniBol.ttf) normal normal 700 normal>) = 10.335\n",
            "[2021-07-13 23:53:06,572] [DEBUG] [matplotlib.font_manager]  findfont: score(<Font 'STIXNonUnicode' (STIXNonUniIta.ttf) italic normal 400 normal>) = 11.05\n",
            "[2021-07-13 23:53:06,574] [DEBUG] [matplotlib.font_manager]  findfont: score(<Font 'STIXSizeOneSym' (STIXSizOneSymBol.ttf) normal normal 700 normal>) = 10.335\n",
            "[2021-07-13 23:53:06,576] [DEBUG] [matplotlib.font_manager]  findfont: score(<Font 'STIXSizeFiveSym' (STIXSizFiveSymReg.ttf) normal normal regular normal>) = 10.05\n",
            "[2021-07-13 23:53:06,577] [DEBUG] [matplotlib.font_manager]  findfont: score(<Font 'DejaVu Serif' (DejaVuSerif-Bold.ttf) normal normal 700 normal>) = 10.335\n",
            "[2021-07-13 23:53:06,579] [DEBUG] [matplotlib.font_manager]  findfont: score(<Font 'DejaVu Sans' (DejaVuSans-BoldOblique.ttf) oblique normal 700 normal>) = 5.335\n",
            "[2021-07-13 23:53:06,581] [DEBUG] [matplotlib.font_manager]  findfont: score(<Font 'DejaVu Sans Mono' (DejaVuSansMono-Oblique.ttf) oblique normal 400 normal>) = 11.05\n",
            "[2021-07-13 23:53:06,583] [DEBUG] [matplotlib.font_manager]  findfont: score(<Font 'STIXSizeFourSym' (STIXSizFourSymBol.ttf) normal normal 700 normal>) = 10.335\n",
            "[2021-07-13 23:53:06,584] [DEBUG] [matplotlib.font_manager]  findfont: score(<Font 'DejaVu Sans' (DejaVuSans.ttf) normal normal 400 normal>) = 4.05\n",
            "[2021-07-13 23:53:06,586] [DEBUG] [matplotlib.font_manager]  findfont: score(<Font 'DejaVu Sans' (DejaVuSans-Oblique.ttf) oblique normal 400 normal>) = 5.05\n",
            "[2021-07-13 23:53:06,587] [DEBUG] [matplotlib.font_manager]  findfont: score(<Font 'STIXSizeThreeSym' (STIXSizThreeSymBol.ttf) normal normal 700 normal>) = 10.335\n",
            "[2021-07-13 23:53:06,589] [DEBUG] [matplotlib.font_manager]  findfont: score(<Font 'STIXSizeOneSym' (STIXSizOneSymReg.ttf) normal normal regular normal>) = 10.05\n",
            "[2021-07-13 23:53:06,591] [DEBUG] [matplotlib.font_manager]  findfont: score(<Font 'DejaVu Sans Mono' (DejaVuSansMono-Bold.ttf) normal normal 700 normal>) = 10.335\n",
            "[2021-07-13 23:53:06,593] [DEBUG] [matplotlib.font_manager]  findfont: score(<Font 'STIXNonUnicode' (STIXNonUni.ttf) normal normal regular normal>) = 10.05\n",
            "[2021-07-13 23:53:06,594] [DEBUG] [matplotlib.font_manager]  findfont: score(<Font 'cmtt10' (cmtt10.ttf) normal normal 400 normal>) = 10.05\n",
            "[2021-07-13 23:53:06,596] [DEBUG] [matplotlib.font_manager]  findfont: score(<Font 'STIXGeneral' (STIXGeneralItalic.ttf) italic normal 400 normal>) = 11.05\n",
            "[2021-07-13 23:53:06,597] [DEBUG] [matplotlib.font_manager]  findfont: score(<Font 'DejaVu Serif' (DejaVuSerif.ttf) normal normal 400 normal>) = 10.05\n",
            "[2021-07-13 23:53:06,599] [DEBUG] [matplotlib.font_manager]  findfont: score(<Font 'cmb10' (cmb10.ttf) normal normal 400 normal>) = 10.05\n",
            "[2021-07-13 23:53:06,601] [DEBUG] [matplotlib.font_manager]  findfont: score(<Font 'cmmi10' (cmmi10.ttf) normal normal 400 normal>) = 10.05\n",
            "[2021-07-13 23:53:06,603] [DEBUG] [matplotlib.font_manager]  findfont: score(<Font 'STIXNonUnicode' (STIXNonUniBolIta.ttf) italic normal 700 normal>) = 11.335\n",
            "[2021-07-13 23:53:06,605] [DEBUG] [matplotlib.font_manager]  findfont: score(<Font 'DejaVu Sans' (DejaVuSans-Bold.ttf) normal normal 700 normal>) = 4.335\n",
            "[2021-07-13 23:53:06,607] [DEBUG] [matplotlib.font_manager]  findfont: score(<Font 'STIXGeneral' (STIXGeneralBol.ttf) normal normal 700 normal>) = 10.335\n",
            "[2021-07-13 23:53:06,609] [DEBUG] [matplotlib.font_manager]  findfont: score(<Font 'DejaVu Sans Display' (DejaVuSansDisplay.ttf) normal normal 400 normal>) = 10.05\n",
            "[2021-07-13 23:53:06,610] [DEBUG] [matplotlib.font_manager]  findfont: score(<Font 'STIXGeneral' (STIXGeneral.ttf) normal normal regular normal>) = 10.05\n",
            "[2021-07-13 23:53:06,612] [DEBUG] [matplotlib.font_manager]  findfont: score(<Font 'STIXSizeFourSym' (STIXSizFourSymReg.ttf) normal normal regular normal>) = 10.05\n",
            "[2021-07-13 23:53:06,613] [DEBUG] [matplotlib.font_manager]  findfont: score(<Font 'STIXGeneral' (STIXGeneralBolIta.ttf) italic normal 700 normal>) = 11.335\n",
            "[2021-07-13 23:53:06,615] [DEBUG] [matplotlib.font_manager]  findfont: score(<Font 'DejaVu Serif Display' (DejaVuSerifDisplay.ttf) normal normal 400 normal>) = 10.05\n",
            "[2021-07-13 23:53:06,617] [DEBUG] [matplotlib.font_manager]  findfont: score(<Font 'STIXSizeTwoSym' (STIXSizTwoSymReg.ttf) normal normal regular normal>) = 10.05\n",
            "[2021-07-13 23:53:06,619] [DEBUG] [matplotlib.font_manager]  findfont: score(<Font 'cmsy10' (cmsy10.ttf) normal normal 400 normal>) = 10.05\n",
            "[2021-07-13 23:53:06,620] [DEBUG] [matplotlib.font_manager]  findfont: score(<Font 'cmr10' (cmr10.ttf) normal normal 400 normal>) = 10.05\n",
            "[2021-07-13 23:53:06,622] [DEBUG] [matplotlib.font_manager]  findfont: score(<Font 'STIXSizeThreeSym' (STIXSizThreeSymReg.ttf) normal normal regular normal>) = 10.05\n",
            "[2021-07-13 23:53:06,623] [DEBUG] [matplotlib.font_manager]  findfont: score(<Font 'STIXSizeTwoSym' (STIXSizTwoSymBol.ttf) normal normal 700 normal>) = 10.335\n",
            "[2021-07-13 23:53:06,625] [DEBUG] [matplotlib.font_manager]  findfont: score(<Font 'DejaVu Sans Mono' (DejaVuSansMono.ttf) normal normal 400 normal>) = 10.05\n",
            "[2021-07-13 23:53:06,627] [DEBUG] [matplotlib.font_manager]  findfont: score(<Font 'DejaVu Serif' (DejaVuSerif-BoldItalic.ttf) italic normal 700 normal>) = 11.335\n",
            "[2021-07-13 23:53:06,629] [DEBUG] [matplotlib.font_manager]  findfont: score(<Font 'Liberation Serif' (LiberationSerif-Bold.ttf) normal normal 700 normal>) = 10.335\n",
            "[2021-07-13 23:53:06,631] [DEBUG] [matplotlib.font_manager]  findfont: score(<Font 'Liberation Serif' (LiberationSerif-Italic.ttf) italic normal 400 normal>) = 11.05\n",
            "[2021-07-13 23:53:06,634] [DEBUG] [matplotlib.font_manager]  findfont: score(<Font 'Liberation Sans Narrow' (LiberationSansNarrow-Italic.ttf) italic normal 400 condensed>) = 11.25\n",
            "[2021-07-13 23:53:06,635] [DEBUG] [matplotlib.font_manager]  findfont: score(<Font 'Liberation Mono' (LiberationMono-Regular.ttf) normal normal 400 normal>) = 10.05\n",
            "[2021-07-13 23:53:06,637] [DEBUG] [matplotlib.font_manager]  findfont: score(<Font 'Liberation Sans' (LiberationSans-Regular.ttf) normal normal 400 normal>) = 2.05\n",
            "[2021-07-13 23:53:06,648] [DEBUG] [matplotlib.font_manager]  findfont: score(<Font 'Liberation Sans Narrow' (LiberationSansNarrow-BoldItalic.ttf) italic normal 700 condensed>) = 11.535\n",
            "[2021-07-13 23:53:06,649] [DEBUG] [matplotlib.font_manager]  findfont: score(<Font 'Humor Sans' (Humor-Sans.ttf) normal normal 400 normal>) = 10.05\n",
            "[2021-07-13 23:53:06,650] [DEBUG] [matplotlib.font_manager]  findfont: score(<Font 'Liberation Sans' (LiberationSans-Italic.ttf) italic normal 400 normal>) = 3.05\n",
            "[2021-07-13 23:53:06,653] [DEBUG] [matplotlib.font_manager]  findfont: score(<Font 'Liberation Sans Narrow' (LiberationSansNarrow-Regular.ttf) normal normal 400 condensed>) = 10.25\n",
            "[2021-07-13 23:53:06,654] [DEBUG] [matplotlib.font_manager]  findfont: score(<Font 'Liberation Mono' (LiberationMono-BoldItalic.ttf) italic normal 700 normal>) = 11.335\n",
            "[2021-07-13 23:53:06,656] [DEBUG] [matplotlib.font_manager]  findfont: score(<Font 'Liberation Sans' (LiberationSans-BoldItalic.ttf) italic normal 700 normal>) = 3.335\n",
            "[2021-07-13 23:53:06,658] [DEBUG] [matplotlib.font_manager]  findfont: score(<Font 'Liberation Mono' (LiberationMono-Bold.ttf) normal normal 700 normal>) = 10.335\n",
            "[2021-07-13 23:53:06,661] [DEBUG] [matplotlib.font_manager]  findfont: score(<Font 'Liberation Sans Narrow' (LiberationSansNarrow-Bold.ttf) normal normal 700 condensed>) = 10.535\n",
            "[2021-07-13 23:53:06,662] [DEBUG] [matplotlib.font_manager]  findfont: score(<Font 'Liberation Serif' (LiberationSerif-Regular.ttf) normal normal 400 normal>) = 10.05\n",
            "[2021-07-13 23:53:06,664] [DEBUG] [matplotlib.font_manager]  findfont: score(<Font 'Liberation Mono' (LiberationMono-Italic.ttf) italic normal 400 normal>) = 11.05\n",
            "[2021-07-13 23:53:06,666] [DEBUG] [matplotlib.font_manager]  findfont: score(<Font 'Liberation Sans' (LiberationSans-Bold.ttf) normal normal 700 normal>) = 2.335\n",
            "[2021-07-13 23:53:06,668] [DEBUG] [matplotlib.font_manager]  findfont: score(<Font 'Liberation Serif' (LiberationSerif-BoldItalic.ttf) italic normal 700 normal>) = 11.335\n",
            "[2021-07-13 23:53:06,670] [DEBUG] [matplotlib.font_manager]  findfont: Matching sans\\-serif:style=normal:variant=normal:weight=normal:stretch=normal:size=12.0 to Liberation Sans ('/usr/share/fonts/truetype/liberation/LiberationSans-Regular.ttf') with score of 2.050000.\n"
          ],
          "name": "stderr"
        },
        {
          "output_type": "display_data",
          "data": {
            "image/png": "[encoded data removed]",
            "text/plain": [
              "<Figure size 720x576 with 1 Axes>"
            ]
          },
          "metadata": {
            "tags": []
          }
        }
      ]
    },
    {
      "cell_type": "code",
      "metadata": {
        "id": "i8sxaweQbQ4n",
        "colab": {
          "base_uri": "https://localhost:8080/"
        },
        "outputId": "0e5f95cb-8047-49bc-fc6f-73785c2df39b"
      },
      "source": [
        "sim = {}\n",
        "for q in v_q:\n",
        "  answerers = q2a[q]\n",
        "  for a in answerers:\n",
        "    for q2 in a2q[a]:\n",
        "      if q2 != q:\n",
        "        sim[(q,q2)] = len(set(answerers).intersection(set(q2a[q2]))) / len(set(answerers).union(set(q2a[q2])))\n",
        "print(len(sim))\n",
        "\n",
        "sim2 = {}\n",
        "for k in sim:\n",
        "  q = k[0]\n",
        "  q2 = k[1]\n",
        "  t1 = v_q2t[q]\n",
        "  if q2 in v_q2t:\n",
        "    t2 = v_q2t[q2]  \n",
        "  elif q2 in q2t:\n",
        "    t2 = q2t[q2]\n",
        "  else:\n",
        "    t2 = []\n",
        "  sim2[k] = len(set(t1).intersection(set(t2))) / len(set(t1).union(set(t2)))\n",
        "\n",
        "print(len(sim2))"
      ],
      "execution_count": 79,
      "outputs": [
        {
          "output_type": "stream",
          "text": [
            "2078766\n",
            "2078766\n"
          ],
          "name": "stdout"
        }
      ]
    },
    {
      "cell_type": "code",
      "metadata": {
        "id": "eRvA5-3RovZb"
      },
      "source": [
        "import numpy as np\n",
        "import seaborn as sns\n",
        "import matplotlib.pylab as plt\n",
        "\n",
        "for i in range(1, 6):\n",
        "  a = np.zeros((2**i,2**i))\n",
        "\n",
        "  plt.figure(figsize=(10,8))\n",
        "\n",
        "  for k, v in sim.items():\n",
        "    # if sim2[k] > 0:# and v > 0:\n",
        "      # print(int(v * 10), int(sim2[k] * 10))\n",
        "      a[int(sim2[k] * (2**i - 1))][int(v * (2**i - 1))] += 1\n",
        "  # a[0][0] = 0\n",
        "  a = np.log2(a + 1)\n",
        "  ax = sns.heatmap(a, annot=False)\n",
        "  ax.invert_yaxis()\n",
        "  plt.title('Question Similarity in Tags vs. Answerers')\n",
        "  plt.ylabel('Question Similarity in Tags')\n",
        "  plt.xlabel('Question Similarity in Answerers')\n",
        "  plt.show()"
      ],
      "execution_count": null,
      "outputs": []
    },
    {
      "cell_type": "code",
      "metadata": {
        "id": "AYaUEg9ujdfK"
      },
      "source": [
        "x = []\n",
        "y = []\n",
        "s = []\n",
        "for k, v in sim.items():\n",
        "  # if sim2[k] > 0:\n",
        "    x.append(v)\n",
        "    y.append(sim2[k])\n",
        "    s.append(10)\n",
        "print(len(x), len(y))\n",
        "min(x), min(y)"
      ],
      "execution_count": null,
      "outputs": []
    },
    {
      "cell_type": "code",
      "metadata": {
        "id": "Bj7zRierjpaQ"
      },
      "source": [
        "plt.scatter(x,y, s=s)"
      ],
      "execution_count": null,
      "outputs": []
    },
    {
      "cell_type": "code",
      "metadata": {
        "id": "DG175wSYkp6X"
      },
      "source": [
        "good_q = []\n",
        "for k, v in sim.items():\n",
        "  if v >= 0.5 and sim2[k] >= 0.5:\n",
        "    good_q.append(k[0])\n",
        "    good_q.append(k[1])\n",
        "print(len(good_q))\n",
        "uniq_g = np.unique(good_q, return_counts=True)\n",
        "print(len(uniq_g[0]))\n",
        "\n",
        "bad_q = []\n",
        "for k, v in sim.items():\n",
        "  if sim2[k] > 0:\n",
        "    if (v < 0.5) or (sim2[k] < 0.5):\n",
        "      if k[0] == 32789 or k[1] == 32789:\n",
        "        print(k, v, sim2[k])\n",
        "      bad_q.append(k[0])\n",
        "      bad_q.append(k[1])\n",
        "\n",
        "print(len(bad_q))\n",
        "uniq_b = np.unique(bad_q, return_counts=True)\n",
        "print(len(uniq_b[0]))"
      ],
      "execution_count": null,
      "outputs": []
    },
    {
      "cell_type": "code",
      "metadata": {
        "id": "wBpJv2lKy5zp"
      },
      "source": [
        "if 32789 in bad_q:\n",
        "  print(1)"
      ],
      "execution_count": null,
      "outputs": []
    },
    {
      "cell_type": "code",
      "metadata": {
        "id": "4VXQBi_Vwa7u"
      },
      "source": [
        "gg = []\n",
        "for q in uniq_g[0]:\n",
        "  if q not in uniq_b[0]:\n",
        "    gg.append(q)\n",
        "len(gg)"
      ],
      "execution_count": null,
      "outputs": []
    },
    {
      "cell_type": "code",
      "metadata": {
        "id": "ig1bkUk5w8cv"
      },
      "source": [
        "gg = {}\n",
        "for i, q in enumerate(uniq_g[0]):\n",
        "  if q in uniq_b[0]:\n",
        "    j = np.where(uniq_b[0] == q)\n",
        "    gg[q] = uniq_g[1][i] - uniq_b[1][j]\n"
      ],
      "execution_count": null,
      "outputs": []
    },
    {
      "cell_type": "code",
      "metadata": {
        "id": "D1rxUJTTxjLx"
      },
      "source": [
        "aa = {}\n",
        "for k, v in a2t.items():\n",
        "  v = tuple(np.unique(v))\n",
        "  if tuple(v) not in aa:\n",
        "    aa[tuple(v)] = []\n",
        "  aa[tuple(v)].append(k)\n",
        "len(aa)"
      ],
      "execution_count": null,
      "outputs": []
    },
    {
      "cell_type": "code",
      "metadata": {
        "id": "T7AGeUMd3B7q"
      },
      "source": [
        "len(a2q)"
      ],
      "execution_count": null,
      "outputs": []
    },
    {
      "cell_type": "code",
      "metadata": {
        "id": "aVTqc6p43rxI"
      },
      "source": [
        ""
      ],
      "execution_count": null,
      "outputs": []
    }
  ]
}